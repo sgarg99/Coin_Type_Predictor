{
  "nbformat": 4,
  "nbformat_minor": 0,
  "metadata": {
    "colab": {
      "name": "Logical3.ipynb",
      "provenance": [],
      "machine_shape": "hm"
    },
    "kernelspec": {
      "name": "python3",
      "display_name": "Python 3"
    },
    "accelerator": "GPU"
  },
  "cells": [
    {
      "cell_type": "code",
      "metadata": {
        "id": "dkpes2M3ElvO",
        "colab_type": "code",
        "outputId": "6cba7ab1-4e3c-4bb8-b65c-10e2bf378aea",
        "colab": {
          "base_uri": "https://localhost:8080/",
          "height": 121
        }
      },
      "source": [
        "from google.colab import drive\n",
        "drive.mount('/content/gdrive')"
      ],
      "execution_count": 0,
      "outputs": [
        {
          "output_type": "stream",
          "text": [
            "Go to this URL in a browser: https://accounts.google.com/o/oauth2/auth?client_id=947318989803-6bn6qk8qdgf4n4g3pfee6491hc0brc4i.apps.googleusercontent.com&redirect_uri=urn%3Aietf%3Awg%3Aoauth%3A2.0%3Aoob&scope=email%20https%3A%2F%2Fwww.googleapis.com%2Fauth%2Fdocs.test%20https%3A%2F%2Fwww.googleapis.com%2Fauth%2Fdrive%20https%3A%2F%2Fwww.googleapis.com%2Fauth%2Fdrive.photos.readonly%20https%3A%2F%2Fwww.googleapis.com%2Fauth%2Fpeopleapi.readonly&response_type=code\n",
            "\n",
            "Enter your authorization code:\n",
            "··········\n",
            "Mounted at /content/gdrive\n"
          ],
          "name": "stdout"
        }
      ]
    },
    {
      "cell_type": "code",
      "metadata": {
        "id": "951nalYfEtPI",
        "colab_type": "code",
        "outputId": "a2e26d2d-452b-47f9-a5ba-0fc7605e388b",
        "colab": {
          "base_uri": "https://localhost:8080/",
          "height": 34
        }
      },
      "source": [
        "cd LR3/train"
      ],
      "execution_count": 0,
      "outputs": [
        {
          "output_type": "stream",
          "text": [
            "/content/gdrive/My Drive/LR3/train\n"
          ],
          "name": "stdout"
        }
      ]
    },
    {
      "cell_type": "code",
      "metadata": {
        "id": "DHe70WIOE7Br",
        "colab_type": "code",
        "outputId": "0cd0264d-11d9-40b4-b9c9-51df9c27580d",
        "colab": {
          "base_uri": "https://localhost:8080/",
          "height": 34
        }
      },
      "source": [
        "\n",
        "import os\n",
        "import tensorflow as tf\n",
        "tf.enable_eager_execution()\n",
        "tf.__version__"
      ],
      "execution_count": 0,
      "outputs": [
        {
          "output_type": "execute_result",
          "data": {
            "text/plain": [
              "'1.14.0'"
            ]
          },
          "metadata": {
            "tags": []
          },
          "execution_count": 6
        }
      ]
    },
    {
      "cell_type": "code",
      "metadata": {
        "id": "0786fdvtFrZW",
        "colab_type": "code",
        "colab": {}
      },
      "source": [
        "all_images_path=[]\n",
        "all_images_label=[]\n",
        "import pathlib\n",
        "for dir in os.listdir():\n",
        "  fold=pathlib.Path(dir)\n",
        "  for item in fold.iterdir():\n",
        "    all_images_path.append((item))\n",
        "    all_images_label.append(str(dir))\n",
        "all_images_path = [str(path) for path in all_images_path]\n",
        "all_images_path_and_label=list(zip(all_images_path,all_images_label))\n",
        "import random\n",
        "random.shuffle(all_images_path_and_label)\n",
        "all_images_path,all_images_label=zip(*(all_images_path_and_label))"
      ],
      "execution_count": 0,
      "outputs": []
    },
    {
      "cell_type": "code",
      "metadata": {
        "id": "4PQ8-8BiXlDQ",
        "colab_type": "code",
        "outputId": "aa8537b4-8eff-4311-8d09-dabd207df7db",
        "colab": {
          "base_uri": "https://localhost:8080/",
          "height": 34
        }
      },
      "source": [
        "cd train"
      ],
      "execution_count": 0,
      "outputs": [
        {
          "output_type": "stream",
          "text": [
            "/content/gdrive/My Drive/LR3/train\n"
          ],
          "name": "stdout"
        }
      ]
    },
    {
      "cell_type": "markdown",
      "metadata": {
        "id": "hYELwBss4LLe",
        "colab_type": "text"
      },
      "source": [
        "Storing all the image paths "
      ]
    },
    {
      "cell_type": "code",
      "metadata": {
        "id": "XPc3t_YgUBzf",
        "colab_type": "code",
        "colab": {}
      },
      "source": [
        "label=[]\n",
        "for item in all_images_label:\n",
        "  label.append(label_map[str(item)])"
      ],
      "execution_count": 0,
      "outputs": []
    },
    {
      "cell_type": "code",
      "metadata": {
        "id": "siPqj-_d2bF9",
        "colab_type": "code",
        "outputId": "b257f73b-6b63-493b-ef08-dcb3b709844b",
        "colab": {
          "base_uri": "https://localhost:8080/",
          "height": 1000
        }
      },
      "source": [
        "label"
      ],
      "execution_count": 0,
      "outputs": [
        {
          "output_type": "execute_result",
          "data": {
            "text/plain": [
              "['czech_republic',\n",
              " 'south_korea',\n",
              " 'israel',\n",
              " 'indonesia',\n",
              " 'spain',\n",
              " 'malaysia',\n",
              " 'hungary',\n",
              " 'singapore',\n",
              " 'china',\n",
              " 'chile',\n",
              " 'norway',\n",
              " 'india',\n",
              " 'taiwan',\n",
              " 'united_kingdom',\n",
              " 'poland',\n",
              " 'new_zealand',\n",
              " 'mexico',\n",
              " 'switzerland',\n",
              " 'united_kingdom',\n",
              " 'usa',\n",
              " 'denmark',\n",
              " 'india',\n",
              " 'philippines',\n",
              " 'spain',\n",
              " 'japan',\n",
              " 'australia',\n",
              " 'south_africa',\n",
              " 'pakistan',\n",
              " 'czech_republic',\n",
              " 'indonesia',\n",
              " 'norway',\n",
              " 'new_zealand',\n",
              " 'brazil',\n",
              " 'canada',\n",
              " 'indonesia',\n",
              " 'spain',\n",
              " 'czech_republic',\n",
              " 'russia',\n",
              " 'russia',\n",
              " 'brazil',\n",
              " 'poland',\n",
              " 'turkey',\n",
              " 'chile',\n",
              " 'spain',\n",
              " 'united_kingdom',\n",
              " 'united_kingdom',\n",
              " 'czech_republic',\n",
              " 'south_africa',\n",
              " 'china',\n",
              " 'poland',\n",
              " 'russia',\n",
              " 'russia',\n",
              " 'new_zealand',\n",
              " 'norway',\n",
              " 'indonesia',\n",
              " 'philippines',\n",
              " 'south_africa',\n",
              " 'brazil',\n",
              " 'philippines',\n",
              " 'turkey',\n",
              " 'united_kingdom',\n",
              " 'thailand',\n",
              " 'united_kingdom',\n",
              " 'canada',\n",
              " 'taiwan',\n",
              " 'south_korea',\n",
              " 'hungary',\n",
              " 'turkey',\n",
              " 'chile',\n",
              " 'thailand',\n",
              " 'mexico',\n",
              " 'thailand',\n",
              " 'united_kingdom',\n",
              " 'china',\n",
              " 'japan',\n",
              " 'switzerland',\n",
              " 'sweden',\n",
              " 'canada',\n",
              " 'israel',\n",
              " 'brazil',\n",
              " 'czech_republic',\n",
              " 'israel',\n",
              " 'australia',\n",
              " 'sweden',\n",
              " 'south_africa',\n",
              " 'poland',\n",
              " 'new_zealand',\n",
              " 'hungary',\n",
              " 'russia',\n",
              " 'hong_kong',\n",
              " 'canada',\n",
              " 'taiwan',\n",
              " 'mexico',\n",
              " 'russia',\n",
              " 'singapore',\n",
              " 'denmark',\n",
              " 'czech_republic',\n",
              " 'russia',\n",
              " 'poland',\n",
              " 'switzerland',\n",
              " 'hong_kong',\n",
              " 'united_kingdom',\n",
              " 'denmark',\n",
              " 'switzerland',\n",
              " 'malaysia',\n",
              " 'south_korea',\n",
              " 'norway',\n",
              " 'brazil',\n",
              " 'australia',\n",
              " 'japan',\n",
              " 'malaysia',\n",
              " 'thailand',\n",
              " 'hungary',\n",
              " 'russia',\n",
              " 'taiwan',\n",
              " 'poland',\n",
              " 'czech_republic',\n",
              " 'india',\n",
              " 'chile',\n",
              " 'russia',\n",
              " 'israel',\n",
              " 'chile',\n",
              " 'switzerland',\n",
              " 'new_zealand',\n",
              " 'thailand',\n",
              " 'japan',\n",
              " 'south_africa',\n",
              " 'brazil',\n",
              " 'south_korea',\n",
              " 'norway',\n",
              " 'thailand',\n",
              " 'switzerland',\n",
              " 'mexico',\n",
              " 'czech_republic',\n",
              " 'canada',\n",
              " 'russia',\n",
              " 'spain',\n",
              " 'czech_republic',\n",
              " 'poland',\n",
              " 'sweden',\n",
              " 'israel',\n",
              " 'hungary',\n",
              " 'japan',\n",
              " 'south_korea',\n",
              " 'czech_republic',\n",
              " 'japan',\n",
              " 'philippines',\n",
              " 'singapore',\n",
              " 'indonesia',\n",
              " 'spain',\n",
              " 'japan',\n",
              " 'denmark',\n",
              " 'new_zealand',\n",
              " 'south_africa',\n",
              " 'new_zealand',\n",
              " 'new_zealand',\n",
              " 'poland',\n",
              " 'czech_republic',\n",
              " 'usa',\n",
              " 'hong_kong',\n",
              " 'united_kingdom',\n",
              " 'hungary',\n",
              " 'norway',\n",
              " 'czech_republic',\n",
              " 'denmark',\n",
              " 'united_kingdom',\n",
              " 'australia',\n",
              " 'chile',\n",
              " 'mexico',\n",
              " 'usa',\n",
              " 'new_zealand',\n",
              " 'hong_kong',\n",
              " 'chile',\n",
              " 'israel',\n",
              " 'israel',\n",
              " 'australia',\n",
              " 'india',\n",
              " 'sweden',\n",
              " 'brazil',\n",
              " 'turkey',\n",
              " 'czech_republic',\n",
              " 'russia',\n",
              " 'united_kingdom',\n",
              " 'japan',\n",
              " 'russia',\n",
              " 'poland',\n",
              " 'hungary',\n",
              " 'japan',\n",
              " 'singapore',\n",
              " 'spain',\n",
              " 'south_africa',\n",
              " 'canada',\n",
              " 'singapore',\n",
              " 'czech_republic',\n",
              " 'switzerland',\n",
              " 'south_africa',\n",
              " 'spain',\n",
              " 'united_kingdom',\n",
              " 'singapore',\n",
              " 'sweden',\n",
              " 'indonesia',\n",
              " 'spain',\n",
              " 'south_africa',\n",
              " 'canada',\n",
              " 'philippines',\n",
              " 'czech_republic',\n",
              " 'czech_republic',\n",
              " 'mexico',\n",
              " 'hungary',\n",
              " 'czech_republic',\n",
              " 'israel',\n",
              " 'sweden',\n",
              " 'switzerland',\n",
              " 'china',\n",
              " 'malaysia',\n",
              " 'united_kingdom',\n",
              " 'israel',\n",
              " 'chile',\n",
              " 'indonesia',\n",
              " 'south_africa',\n",
              " 'china',\n",
              " 'canada',\n",
              " 'russia',\n",
              " 'chile',\n",
              " 'czech_republic',\n",
              " 'new_zealand',\n",
              " 'israel',\n",
              " 'israel',\n",
              " 'turkey',\n",
              " 'philippines',\n",
              " 'norway',\n",
              " 'south_korea',\n",
              " 'japan',\n",
              " 'united_kingdom',\n",
              " 'japan',\n",
              " 'canada',\n",
              " 'hungary',\n",
              " 'hungary',\n",
              " 'usa',\n",
              " 'south_korea',\n",
              " 'czech_republic',\n",
              " 'south_korea',\n",
              " 'south_korea',\n",
              " 'united_kingdom',\n",
              " 'switzerland',\n",
              " 'mexico',\n",
              " 'czech_republic',\n",
              " 'spain',\n",
              " 'japan',\n",
              " 'indonesia',\n",
              " 'israel',\n",
              " 'hungary',\n",
              " 'switzerland',\n",
              " 'thailand',\n",
              " 'israel',\n",
              " 'mexico',\n",
              " 'canada',\n",
              " 'turkey',\n",
              " 'malaysia',\n",
              " 'usa',\n",
              " 'new_zealand',\n",
              " 'india',\n",
              " 'hungary',\n",
              " 'brazil',\n",
              " 'spain',\n",
              " 'malaysia',\n",
              " 'canada',\n",
              " 'norway',\n",
              " 'hungary',\n",
              " 'malaysia',\n",
              " 'israel',\n",
              " 'czech_republic',\n",
              " 'china',\n",
              " 'hungary',\n",
              " 'mexico',\n",
              " 'czech_republic',\n",
              " 'china',\n",
              " 'canada',\n",
              " 'hungary',\n",
              " 'philippines',\n",
              " 'usa',\n",
              " 'usa',\n",
              " 'south_korea',\n",
              " 'malaysia',\n",
              " 'india',\n",
              " 'canada',\n",
              " 'canada',\n",
              " 'philippines',\n",
              " 'south_korea',\n",
              " 'philippines',\n",
              " 'denmark',\n",
              " 'russia',\n",
              " 'taiwan',\n",
              " 'russia',\n",
              " 'india',\n",
              " 'norway',\n",
              " 'new_zealand',\n",
              " 'russia',\n",
              " 'czech_republic',\n",
              " 'singapore',\n",
              " 'brazil',\n",
              " 'philippines',\n",
              " 'poland',\n",
              " 'turkey',\n",
              " 'czech_republic',\n",
              " 'india',\n",
              " 'united_kingdom',\n",
              " 'israel',\n",
              " 'usa',\n",
              " 'australia',\n",
              " 'usa',\n",
              " 'denmark',\n",
              " 'south_africa',\n",
              " 'new_zealand',\n",
              " 'new_zealand',\n",
              " 'chile',\n",
              " 'usa',\n",
              " 'malaysia',\n",
              " 'indonesia',\n",
              " 'czech_republic',\n",
              " 'south_africa',\n",
              " 'hong_kong',\n",
              " 'czech_republic',\n",
              " 'chile',\n",
              " 'sweden',\n",
              " 'norway',\n",
              " 'thailand',\n",
              " 'israel',\n",
              " 'hong_kong',\n",
              " 'canada',\n",
              " 'south_africa',\n",
              " 'norway',\n",
              " 'pakistan',\n",
              " 'canada',\n",
              " 'mexico',\n",
              " 'japan',\n",
              " 'mexico',\n",
              " 'usa',\n",
              " 'south_korea',\n",
              " 'japan',\n",
              " 'south_korea',\n",
              " 'japan',\n",
              " 'india',\n",
              " 'hungary',\n",
              " 'pakistan',\n",
              " 'japan',\n",
              " 'thailand',\n",
              " 'japan',\n",
              " 'brazil',\n",
              " 'indonesia',\n",
              " 'singapore',\n",
              " 'indonesia',\n",
              " 'canada',\n",
              " 'sweden',\n",
              " 'south_africa',\n",
              " 'mexico',\n",
              " 'brazil',\n",
              " 'taiwan',\n",
              " 'hungary',\n",
              " 'chile',\n",
              " 'united_kingdom',\n",
              " 'norway',\n",
              " 'hungary',\n",
              " 'thailand',\n",
              " 'south_korea',\n",
              " 'taiwan',\n",
              " 'united_kingdom',\n",
              " 'mexico',\n",
              " 'india',\n",
              " 'russia',\n",
              " 'czech_republic',\n",
              " 'mexico',\n",
              " 'switzerland',\n",
              " 'canada',\n",
              " 'switzerland',\n",
              " 'switzerland',\n",
              " 'japan',\n",
              " 'singapore',\n",
              " 'australia',\n",
              " 'turkey',\n",
              " 'china',\n",
              " 'sweden',\n",
              " 'indonesia',\n",
              " 'china',\n",
              " 'canada',\n",
              " 'mexico',\n",
              " 'hong_kong',\n",
              " 'taiwan',\n",
              " 'turkey',\n",
              " 'switzerland',\n",
              " 'taiwan',\n",
              " 'czech_republic',\n",
              " 'india',\n",
              " 'poland',\n",
              " 'thailand',\n",
              " 'usa',\n",
              " 'czech_republic',\n",
              " 'spain',\n",
              " 'chile',\n",
              " 'south_africa',\n",
              " 'israel',\n",
              " 'pakistan',\n",
              " 'singapore',\n",
              " 'usa',\n",
              " 'czech_republic',\n",
              " 'indonesia',\n",
              " 'hungary',\n",
              " 'japan',\n",
              " 'japan',\n",
              " 'turkey',\n",
              " 'philippines',\n",
              " 'hungary',\n",
              " 'brazil',\n",
              " 'united_kingdom',\n",
              " 'canada',\n",
              " 'chile',\n",
              " 'hungary',\n",
              " 'pakistan',\n",
              " 'united_kingdom',\n",
              " 'taiwan',\n",
              " 'australia',\n",
              " 'singapore',\n",
              " 'south_korea',\n",
              " 'thailand',\n",
              " 'norway',\n",
              " 'russia',\n",
              " 'czech_republic',\n",
              " 'united_kingdom',\n",
              " 'philippines',\n",
              " 'china',\n",
              " 'china',\n",
              " 'sweden',\n",
              " 'japan',\n",
              " 'brazil',\n",
              " 'india',\n",
              " 'philippines',\n",
              " 'new_zealand',\n",
              " 'chile',\n",
              " 'south_korea',\n",
              " 'australia',\n",
              " 'spain',\n",
              " 'taiwan',\n",
              " 'sweden',\n",
              " 'usa',\n",
              " 'hungary',\n",
              " 'usa',\n",
              " 'russia',\n",
              " 'pakistan',\n",
              " 'thailand',\n",
              " 'spain',\n",
              " 'australia',\n",
              " 'usa',\n",
              " 'south_africa',\n",
              " 'south_korea',\n",
              " 'singapore',\n",
              " 'canada',\n",
              " 'india',\n",
              " 'czech_republic',\n",
              " 'canada',\n",
              " 'czech_republic',\n",
              " 'israel',\n",
              " 'czech_republic',\n",
              " 'pakistan',\n",
              " 'thailand',\n",
              " 'czech_republic',\n",
              " 'chile',\n",
              " 'norway',\n",
              " 'china',\n",
              " 'usa',\n",
              " 'russia',\n",
              " 'india',\n",
              " 'russia',\n",
              " 'australia',\n",
              " 'australia',\n",
              " 'canada',\n",
              " 'denmark',\n",
              " 'pakistan',\n",
              " 'thailand',\n",
              " 'canada',\n",
              " 'hungary',\n",
              " 'turkey',\n",
              " 'poland',\n",
              " 'mexico',\n",
              " 'chile',\n",
              " 'new_zealand',\n",
              " 'russia',\n",
              " 'sweden',\n",
              " 'canada',\n",
              " 'china',\n",
              " 'thailand',\n",
              " 'south_africa',\n",
              " 'taiwan',\n",
              " 'south_korea',\n",
              " 'thailand',\n",
              " 'spain',\n",
              " 'spain',\n",
              " 'mexico',\n",
              " 'pakistan',\n",
              " 'united_kingdom',\n",
              " 'philippines',\n",
              " 'south_korea',\n",
              " 'chile',\n",
              " 'mexico',\n",
              " 'usa',\n",
              " 'south_africa',\n",
              " 'singapore',\n",
              " 'india',\n",
              " 'canada',\n",
              " 'hong_kong',\n",
              " 'hungary',\n",
              " 'hungary',\n",
              " 'south_korea',\n",
              " 'singapore',\n",
              " 'hungary',\n",
              " 'norway',\n",
              " 'spain',\n",
              " 'singapore',\n",
              " 'sweden',\n",
              " 'turkey',\n",
              " 'usa',\n",
              " 'switzerland',\n",
              " 'usa',\n",
              " 'chile',\n",
              " 'philippines',\n",
              " 'south_africa',\n",
              " 'poland',\n",
              " 'south_africa',\n",
              " 'spain',\n",
              " 'mexico',\n",
              " 'singapore',\n",
              " 'china',\n",
              " 'australia',\n",
              " 'hungary',\n",
              " 'czech_republic',\n",
              " 'new_zealand',\n",
              " 'thailand',\n",
              " 'switzerland',\n",
              " 'pakistan',\n",
              " 'poland',\n",
              " 'philippines',\n",
              " 'philippines',\n",
              " 'poland',\n",
              " 'hungary',\n",
              " 'mexico',\n",
              " 'poland',\n",
              " 'sweden',\n",
              " 'indonesia',\n",
              " 'south_africa',\n",
              " 'turkey',\n",
              " 'poland',\n",
              " 'switzerland',\n",
              " 'united_kingdom',\n",
              " 'sweden',\n",
              " 'russia',\n",
              " 'australia',\n",
              " 'turkey',\n",
              " 'chile',\n",
              " 'poland',\n",
              " 'brazil',\n",
              " 'israel',\n",
              " 'united_kingdom',\n",
              " 'malaysia',\n",
              " 'russia',\n",
              " 'chile',\n",
              " 'brazil',\n",
              " 'philippines',\n",
              " 'china',\n",
              " 'spain',\n",
              " 'singapore',\n",
              " 'philippines',\n",
              " 'spain',\n",
              " 'mexico',\n",
              " 'czech_republic',\n",
              " 'turkey',\n",
              " 'singapore',\n",
              " 'mexico',\n",
              " 'singapore',\n",
              " 'india',\n",
              " 'japan',\n",
              " 'china',\n",
              " 'poland',\n",
              " 'poland',\n",
              " 'indonesia',\n",
              " 'india',\n",
              " 'russia',\n",
              " 'mexico',\n",
              " 'singapore',\n",
              " 'mexico',\n",
              " 'united_kingdom',\n",
              " 'canada',\n",
              " 'poland',\n",
              " 'united_kingdom',\n",
              " 'australia',\n",
              " 'singapore',\n",
              " 'thailand',\n",
              " 'hong_kong',\n",
              " 'denmark',\n",
              " 'denmark',\n",
              " 'russia',\n",
              " 'usa',\n",
              " 'south_korea',\n",
              " 'mexico',\n",
              " 'denmark',\n",
              " 'philippines',\n",
              " 'united_kingdom',\n",
              " 'russia',\n",
              " 'turkey',\n",
              " 'indonesia',\n",
              " 'south_africa',\n",
              " 'chile',\n",
              " 'singapore',\n",
              " 'poland',\n",
              " 'united_kingdom',\n",
              " 'czech_republic',\n",
              " 'chile',\n",
              " 'czech_republic',\n",
              " 'czech_republic',\n",
              " 'hong_kong',\n",
              " 'spain',\n",
              " 'thailand',\n",
              " 'mexico',\n",
              " 'czech_republic',\n",
              " 'brazil',\n",
              " 'mexico',\n",
              " 'czech_republic',\n",
              " 'philippines',\n",
              " 'denmark',\n",
              " 'russia',\n",
              " 'indonesia',\n",
              " 'switzerland',\n",
              " 'czech_republic',\n",
              " 'thailand',\n",
              " 'thailand',\n",
              " 'spain',\n",
              " 'switzerland',\n",
              " 'hungary',\n",
              " 'switzerland',\n",
              " 'israel',\n",
              " 'mexico',\n",
              " 'mexico',\n",
              " 'australia',\n",
              " 'russia',\n",
              " 'thailand',\n",
              " 'pakistan',\n",
              " 'united_kingdom',\n",
              " 'turkey',\n",
              " 'denmark',\n",
              " 'indonesia',\n",
              " 'united_kingdom',\n",
              " 'russia',\n",
              " 'czech_republic',\n",
              " 'turkey',\n",
              " 'brazil',\n",
              " 'poland',\n",
              " 'israel',\n",
              " 'czech_republic',\n",
              " 'spain',\n",
              " 'philippines',\n",
              " 'south_africa',\n",
              " 'russia',\n",
              " 'israel',\n",
              " 'norway',\n",
              " 'new_zealand',\n",
              " 'taiwan',\n",
              " 'thailand',\n",
              " 'thailand',\n",
              " 'malaysia',\n",
              " 'usa',\n",
              " 'hungary',\n",
              " 'poland',\n",
              " 'norway',\n",
              " 'switzerland',\n",
              " 'malaysia',\n",
              " 'australia',\n",
              " 'indonesia',\n",
              " 'norway',\n",
              " 'mexico',\n",
              " 'russia',\n",
              " 'new_zealand',\n",
              " 'malaysia',\n",
              " 'hong_kong',\n",
              " 'canada',\n",
              " 'denmark',\n",
              " 'australia',\n",
              " 'taiwan',\n",
              " 'south_africa',\n",
              " 'south_africa',\n",
              " 'israel',\n",
              " 'czech_republic',\n",
              " 'russia',\n",
              " 'spain',\n",
              " 'japan',\n",
              " 'spain',\n",
              " 'united_kingdom',\n",
              " 'south_africa',\n",
              " 'united_kingdom',\n",
              " 'hungary',\n",
              " 'united_kingdom',\n",
              " 'philippines',\n",
              " 'czech_republic',\n",
              " 'chile',\n",
              " 'pakistan',\n",
              " 'mexico',\n",
              " 'australia',\n",
              " 'malaysia',\n",
              " 'russia',\n",
              " 'malaysia',\n",
              " 'south_africa',\n",
              " 'switzerland',\n",
              " 'czech_republic',\n",
              " 'singapore',\n",
              " 'united_kingdom',\n",
              " 'sweden',\n",
              " 'russia',\n",
              " 'switzerland',\n",
              " 'india',\n",
              " 'malaysia',\n",
              " 'thailand',\n",
              " 'canada',\n",
              " 'south_korea',\n",
              " 'india',\n",
              " 'chile',\n",
              " 'south_africa',\n",
              " 'chile',\n",
              " 'norway',\n",
              " 'spain',\n",
              " 'philippines',\n",
              " 'czech_republic',\n",
              " 'south_korea',\n",
              " 'pakistan',\n",
              " 'turkey',\n",
              " 'united_kingdom',\n",
              " 'australia',\n",
              " 'canada',\n",
              " 'sweden',\n",
              " 'russia',\n",
              " 'russia',\n",
              " 'norway',\n",
              " 'switzerland',\n",
              " 'philippines',\n",
              " 'india',\n",
              " 'spain',\n",
              " 'south_korea',\n",
              " 'australia',\n",
              " 'new_zealand',\n",
              " 'canada',\n",
              " 'japan',\n",
              " 'switzerland',\n",
              " 'hong_kong',\n",
              " 'sweden',\n",
              " 'new_zealand',\n",
              " 'canada',\n",
              " 'new_zealand',\n",
              " 'norway',\n",
              " 'united_kingdom',\n",
              " 'russia',\n",
              " 'philippines',\n",
              " 'israel',\n",
              " 'new_zealand',\n",
              " 'switzerland',\n",
              " 'japan',\n",
              " 'philippines',\n",
              " 'hungary',\n",
              " 'taiwan',\n",
              " 'hong_kong',\n",
              " 'canada',\n",
              " 'czech_republic',\n",
              " 'canada',\n",
              " 'canada',\n",
              " 'pakistan',\n",
              " 'denmark',\n",
              " 'japan',\n",
              " 'pakistan',\n",
              " 'hong_kong',\n",
              " 'hungary',\n",
              " 'turkey',\n",
              " 'south_korea',\n",
              " 'united_kingdom',\n",
              " 'sweden',\n",
              " 'poland',\n",
              " 'india',\n",
              " 'sweden',\n",
              " 'hungary',\n",
              " 'denmark',\n",
              " 'denmark',\n",
              " 'hungary',\n",
              " 'china',\n",
              " 'usa',\n",
              " 'new_zealand',\n",
              " 'mexico',\n",
              " 'switzerland',\n",
              " 'canada',\n",
              " 'canada',\n",
              " 'singapore',\n",
              " 'denmark',\n",
              " 'mexico',\n",
              " 'china',\n",
              " 'switzerland',\n",
              " 'thailand',\n",
              " 'singapore',\n",
              " 'south_korea',\n",
              " 'czech_republic',\n",
              " 'south_africa',\n",
              " 'malaysia',\n",
              " 'hungary',\n",
              " 'czech_republic',\n",
              " 'united_kingdom',\n",
              " 'new_zealand',\n",
              " 'usa',\n",
              " 'mexico',\n",
              " 'russia',\n",
              " 'australia',\n",
              " 'brazil',\n",
              " 'russia',\n",
              " 'canada',\n",
              " 'czech_republic',\n",
              " 'indonesia',\n",
              " 'pakistan',\n",
              " 'australia',\n",
              " 'canada',\n",
              " 'chile',\n",
              " 'new_zealand',\n",
              " 'russia',\n",
              " 'thailand',\n",
              " 'mexico',\n",
              " 'india',\n",
              " 'australia',\n",
              " 'chile',\n",
              " 'hong_kong',\n",
              " 'australia',\n",
              " 'usa',\n",
              " 'hungary',\n",
              " 'chile',\n",
              " 'brazil',\n",
              " 'canada',\n",
              " 'spain',\n",
              " 'australia',\n",
              " 'brazil',\n",
              " 'singapore',\n",
              " 'thailand',\n",
              " 'australia',\n",
              " 'usa',\n",
              " 'thailand',\n",
              " 'switzerland',\n",
              " 'thailand',\n",
              " 'usa',\n",
              " 'canada',\n",
              " 'hong_kong',\n",
              " 'poland',\n",
              " 'hungary',\n",
              " 'turkey',\n",
              " 'poland',\n",
              " 'india',\n",
              " 'china',\n",
              " 'new_zealand',\n",
              " 'taiwan',\n",
              " 'singapore',\n",
              " 'indonesia',\n",
              " 'japan',\n",
              " 'india',\n",
              " 'sweden',\n",
              " 'thailand',\n",
              " 'chile',\n",
              " 'malaysia',\n",
              " 'new_zealand',\n",
              " 'usa',\n",
              " 'canada',\n",
              " 'indonesia',\n",
              " 'chile',\n",
              " 'chile',\n",
              " 'czech_republic',\n",
              " 'thailand',\n",
              " 'chile',\n",
              " 'united_kingdom',\n",
              " 'new_zealand',\n",
              " 'philippines',\n",
              " 'spain',\n",
              " 'norway',\n",
              " 'poland',\n",
              " 'mexico',\n",
              " 'united_kingdom',\n",
              " 'denmark',\n",
              " 'taiwan',\n",
              " 'new_zealand',\n",
              " 'china',\n",
              " 'malaysia',\n",
              " 'new_zealand',\n",
              " 'norway',\n",
              " 'israel',\n",
              " 'united_kingdom',\n",
              " 'canada',\n",
              " 'chile',\n",
              " 'united_kingdom',\n",
              " 'chile',\n",
              " 'switzerland',\n",
              " 'mexico',\n",
              " 'denmark',\n",
              " 'denmark',\n",
              " 'singapore',\n",
              " 'pakistan',\n",
              " 'czech_republic',\n",
              " 'south_africa',\n",
              " 'south_africa',\n",
              " 'norway',\n",
              " 'india',\n",
              " 'south_korea',\n",
              " 'india',\n",
              " 'switzerland',\n",
              " 'switzerland',\n",
              " 'united_kingdom',\n",
              " 'taiwan',\n",
              " 'hong_kong',\n",
              " 'japan',\n",
              " 'new_zealand',\n",
              " 'turkey',\n",
              " 'philippines',\n",
              " 'poland',\n",
              " 'turkey',\n",
              " 'thailand',\n",
              " 'china',\n",
              " 'new_zealand',\n",
              " 'czech_republic',\n",
              " 'thailand',\n",
              " 'switzerland',\n",
              " 'new_zealand',\n",
              " 'south_korea',\n",
              " 'chile',\n",
              " 'czech_republic',\n",
              " 'mexico',\n",
              " 'south_korea',\n",
              " 'turkey',\n",
              " 'united_kingdom',\n",
              " 'thailand',\n",
              " 'south_africa',\n",
              " 'denmark',\n",
              " 'chile',\n",
              " 'hong_kong',\n",
              " 'united_kingdom',\n",
              " 'chile',\n",
              " 'czech_republic',\n",
              " 'new_zealand',\n",
              " 'thailand',\n",
              " 'mexico',\n",
              " 'israel',\n",
              " 'indonesia',\n",
              " 'czech_republic',\n",
              " 'switzerland',\n",
              " 'poland',\n",
              " 'australia',\n",
              " 'chile',\n",
              " 'switzerland',\n",
              " 'mexico',\n",
              " 'czech_republic',\n",
              " 'south_africa',\n",
              " 'chile',\n",
              " 'sweden',\n",
              " 'south_korea',\n",
              " 'spain',\n",
              " 'south_africa',\n",
              " 'chile',\n",
              " 'chile',\n",
              " 'japan',\n",
              " 'mexico',\n",
              " 'hong_kong',\n",
              " 'japan',\n",
              " 'spain',\n",
              " 'russia',\n",
              " 'south_korea',\n",
              " 'new_zealand',\n",
              " 'czech_republic',\n",
              " 'chile',\n",
              " 'poland',\n",
              " 'chile',\n",
              " 'indonesia',\n",
              " 'thailand',\n",
              " 'malaysia',\n",
              " 'united_kingdom',\n",
              " 'spain',\n",
              " 'canada',\n",
              " 'czech_republic',\n",
              " 'czech_republic',\n",
              " 'philippines',\n",
              " 'south_africa',\n",
              " 'south_korea',\n",
              " 'switzerland',\n",
              " 'usa',\n",
              " 'denmark',\n",
              " 'brazil',\n",
              " 'poland',\n",
              " 'south_africa',\n",
              " 'mexico',\n",
              " 'new_zealand',\n",
              " 'sweden',\n",
              " 'philippines',\n",
              " 'hungary',\n",
              " 'chile',\n",
              " 'indonesia',\n",
              " 'thailand',\n",
              " 'thailand',\n",
              " 'sweden',\n",
              " ...]"
            ]
          },
          "metadata": {
            "tags": []
          },
          "execution_count": 22
        }
      ]
    },
    {
      "cell_type": "code",
      "metadata": {
        "id": "hrPtX8deY3Tb",
        "colab_type": "code",
        "colab": {}
      },
      "source": [
        "import numpy as np\n",
        "label=np.array(label)"
      ],
      "execution_count": 0,
      "outputs": []
    },
    {
      "cell_type": "code",
      "metadata": {
        "id": "b8yzGH5a2jK3",
        "colab_type": "code",
        "outputId": "95e73414-0db8-4fa1-94ba-992099883b2c",
        "colab": {
          "base_uri": "https://localhost:8080/",
          "height": 34
        }
      },
      "source": [
        "len(np.unique(label))"
      ],
      "execution_count": 0,
      "outputs": [
        {
          "output_type": "execute_result",
          "data": {
            "text/plain": [
              "32"
            ]
          },
          "metadata": {
            "tags": []
          },
          "execution_count": 24
        }
      ]
    },
    {
      "cell_type": "code",
      "metadata": {
        "id": "AVKlE3lIZRwL",
        "colab_type": "code",
        "colab": {}
      },
      "source": [
        "a=np.unique(label)"
      ],
      "execution_count": 0,
      "outputs": []
    },
    {
      "cell_type": "code",
      "metadata": {
        "id": "cUmjuXe34kCm",
        "colab_type": "code",
        "colab": {}
      },
      "source": [
        "b=[]\n",
        "i=0\n",
        "for item in a:\n",
        "  b.append(i)\n",
        "  i+=1"
      ],
      "execution_count": 0,
      "outputs": []
    },
    {
      "cell_type": "code",
      "metadata": {
        "id": "T7f08CLM5LuV",
        "colab_type": "code",
        "colab": {}
      },
      "source": [
        "dicta={}\n",
        "dictb={}\n",
        "for i in range(0,32):\n",
        "  dicta[a[i]]=b[i]\n",
        "  dictb[b[i]]=a[i]"
      ],
      "execution_count": 0,
      "outputs": []
    },
    {
      "cell_type": "code",
      "metadata": {
        "id": "aof-pbvF9oBr",
        "colab_type": "code",
        "outputId": "8ed8f601-8e21-4128-a966-4eff3eb41f8d",
        "colab": {
          "base_uri": "https://localhost:8080/",
          "height": 554
        }
      },
      "source": [
        "dictb"
      ],
      "execution_count": 0,
      "outputs": [
        {
          "output_type": "execute_result",
          "data": {
            "text/plain": [
              "{0: 'australia',\n",
              " 1: 'brazil',\n",
              " 2: 'canada',\n",
              " 3: 'chile',\n",
              " 4: 'china',\n",
              " 5: 'czech_republic',\n",
              " 6: 'denmark',\n",
              " 7: 'hong_kong',\n",
              " 8: 'hungary',\n",
              " 9: 'india',\n",
              " 10: 'indonesia',\n",
              " 11: 'israel',\n",
              " 12: 'japan',\n",
              " 13: 'malaysia',\n",
              " 14: 'mexico',\n",
              " 15: 'new_zealand',\n",
              " 16: 'norway',\n",
              " 17: 'pakistan',\n",
              " 18: 'philippines',\n",
              " 19: 'poland',\n",
              " 20: 'russia',\n",
              " 21: 'singapore',\n",
              " 22: 'south_africa',\n",
              " 23: 'south_korea',\n",
              " 24: 'spain',\n",
              " 25: 'sweden',\n",
              " 26: 'switzerland',\n",
              " 27: 'taiwan',\n",
              " 28: 'thailand',\n",
              " 29: 'turkey',\n",
              " 30: 'united_kingdom',\n",
              " 31: 'usa'}"
            ]
          },
          "metadata": {
            "tags": []
          },
          "execution_count": 28
        }
      ]
    },
    {
      "cell_type": "code",
      "metadata": {
        "id": "sb-G0Qc_5qwY",
        "colab_type": "code",
        "colab": {}
      },
      "source": [
        "YTrain=[]\n",
        "for item in label:\n",
        "  YTrain.append(dicta[item])"
      ],
      "execution_count": 0,
      "outputs": []
    },
    {
      "cell_type": "code",
      "metadata": {
        "id": "DWDue2z36RGO",
        "colab_type": "code",
        "colab": {}
      },
      "source": [
        "YTrain=np.array(YTrain)"
      ],
      "execution_count": 0,
      "outputs": []
    },
    {
      "cell_type": "code",
      "metadata": {
        "id": "uy4GLjbD6Zve",
        "colab_type": "code",
        "colab": {}
      },
      "source": [
        "y=np.array(YTrain)\n",
        "n_values = np.max(y)+1\n",
        "y_tr=np.eye(n_values)[y]"
      ],
      "execution_count": 0,
      "outputs": []
    },
    {
      "cell_type": "code",
      "metadata": {
        "id": "Xo3Tio8M7CKM",
        "colab_type": "code",
        "outputId": "a903d77e-d175-4cc6-91cf-3b5f0bc63f15",
        "colab": {
          "base_uri": "https://localhost:8080/",
          "height": 134
        }
      },
      "source": [
        "y_tr"
      ],
      "execution_count": 0,
      "outputs": [
        {
          "output_type": "execute_result",
          "data": {
            "text/plain": [
              "array([[0., 0., 0., ..., 0., 0., 0.],\n",
              "       [0., 0., 0., ..., 0., 0., 0.],\n",
              "       [0., 0., 0., ..., 0., 0., 0.],\n",
              "       ...,\n",
              "       [0., 0., 0., ..., 0., 0., 0.],\n",
              "       [0., 0., 0., ..., 0., 0., 0.],\n",
              "       [0., 0., 0., ..., 0., 0., 0.]])"
            ]
          },
          "metadata": {
            "tags": []
          },
          "execution_count": 32
        }
      ]
    },
    {
      "cell_type": "code",
      "metadata": {
        "id": "CsqSEhNBaPCa",
        "colab_type": "code",
        "colab": {}
      },
      "source": [
        "y_train=np.array(label_cat)"
      ],
      "execution_count": 0,
      "outputs": []
    },
    {
      "cell_type": "code",
      "metadata": {
        "id": "YmzPIHRsaXqK",
        "colab_type": "code",
        "outputId": "1afeb1a2-b4fa-4b1c-9cda-9ff5f8bc0ce1",
        "colab": {
          "base_uri": "https://localhost:8080/",
          "height": 134
        }
      },
      "source": [
        "y_train"
      ],
      "execution_count": 0,
      "outputs": [
        {
          "output_type": "execute_result",
          "data": {
            "text/plain": [
              "array([[0, 0, 0, ..., 0, 0, 0],\n",
              "       [0, 0, 0, ..., 0, 0, 0],\n",
              "       [0, 0, 0, ..., 0, 0, 0],\n",
              "       ...,\n",
              "       [0, 0, 0, ..., 0, 0, 0],\n",
              "       [0, 0, 0, ..., 0, 0, 0],\n",
              "       [1, 0, 0, ..., 0, 0, 0]], dtype=uint8)"
            ]
          },
          "metadata": {
            "tags": []
          },
          "execution_count": 20
        }
      ]
    },
    {
      "cell_type": "code",
      "metadata": {
        "id": "hmf6FsM8ahpU",
        "colab_type": "code",
        "outputId": "f05e6127-c790-479d-c9a2-4e48137824dd",
        "colab": {
          "base_uri": "https://localhost:8080/",
          "height": 50
        }
      },
      "source": [
        "cd train"
      ],
      "execution_count": 0,
      "outputs": [
        {
          "output_type": "stream",
          "text": [
            "[Errno 2] No such file or directory: 'train'\n",
            "/content/gdrive/My Drive/LR3/train\n"
          ],
          "name": "stdout"
        }
      ]
    },
    {
      "cell_type": "code",
      "metadata": {
        "id": "yaT83SUFXhY4",
        "colab_type": "code",
        "outputId": "c96baaa7-9551-46b2-9eb5-ca9023f9caa5",
        "colab": {
          "base_uri": "https://localhost:8080/",
          "height": 504
        }
      },
      "source": [
        "import numpy as np\n",
        "import cv2\n",
        "from scipy import ndimage\n",
        "from keras.preprocessing.image import ImageDataGenerator, array_to_img, img_to_array, load_img\n",
        "image_width = 224\n",
        "image_height = 224\n",
        "ratio = 1\n",
        "\n",
        "image_width = int(image_width / ratio)\n",
        "image_height = int(image_height / ratio)\n",
        "\n",
        "channels = 3\n",
        "nb_classes = 211\n",
        "\n",
        "dataset= np.ndarray(shape=(len(all_images_path), image_height, image_width,channels),\n",
        "                     dtype=np.float32)\n",
        "i=0\n",
        "for path in all_images_path:\n",
        "  img=cv2.imread(path)\n",
        "  res = cv2.resize(img, dsize=(224,224), interpolation=cv2.INTER_CUBIC)\n",
        "  dataset[i]=res/255.\n",
        "  i+=1\n",
        "  if i % 250 == 0:\n",
        "        print(\"%d images to array\" % i)\n",
        "print(\"All images to array!\")"
      ],
      "execution_count": 0,
      "outputs": [
        {
          "output_type": "stream",
          "text": [
            "250 images to array\n",
            "500 images to array\n",
            "750 images to array\n",
            "1000 images to array\n",
            "1250 images to array\n",
            "1500 images to array\n",
            "1750 images to array\n",
            "2000 images to array\n",
            "2250 images to array\n",
            "2500 images to array\n",
            "2750 images to array\n",
            "3000 images to array\n",
            "3250 images to array\n",
            "3500 images to array\n",
            "3750 images to array\n",
            "4000 images to array\n",
            "4250 images to array\n",
            "4500 images to array\n",
            "4750 images to array\n",
            "5000 images to array\n",
            "5250 images to array\n",
            "5500 images to array\n",
            "5750 images to array\n",
            "6000 images to array\n",
            "6250 images to array\n",
            "6500 images to array\n",
            "6750 images to array\n",
            "7000 images to array\n",
            "All images to array!\n"
          ],
          "name": "stdout"
        }
      ]
    },
    {
      "cell_type": "code",
      "metadata": {
        "id": "m_C7RCGySSn5",
        "colab_type": "code",
        "outputId": "03bd12c3-a598-4e41-8f1d-1ff345eede53",
        "colab": {
          "base_uri": "https://localhost:8080/",
          "height": 101
        }
      },
      "source": [
        "tdataset = np.ndarray(shape=(1055, image_height, image_width,channels),\n",
        "                     dtype=np.float32)\n",
        "i=0\n",
        "for i in range(1,1056):\n",
        "  img=cv2.imread(str(i)+\".jpg\")\n",
        "  res = cv2.resize(img, dsize=(224,224), interpolation=cv2.INTER_CUBIC)\n",
        "  tdataset[i-1]=res/255.\n",
        "  if i % 250 == 0:\n",
        "        print(\"%d images to array\" % i)\n",
        "print(\"All images to array!\")"
      ],
      "execution_count": 0,
      "outputs": [
        {
          "output_type": "stream",
          "text": [
            "250 images to array\n",
            "500 images to array\n",
            "750 images to array\n",
            "1000 images to array\n",
            "All images to array!\n"
          ],
          "name": "stdout"
        }
      ]
    },
    {
      "cell_type": "code",
      "metadata": {
        "id": "npGtxnneGAaX",
        "colab_type": "code",
        "colab": {}
      },
      "source": [
        "def preprocess_image(image):\n",
        "  image = tf.image.decode_jpeg(image, channels=3)\n",
        "  image = tf.image.resize(image, [224, 224])\n",
        "  image = (image-127.5)/255.0 \n",
        "  return image\n",
        "\n",
        "def load_and_preprocess_image(image_path):\n",
        "  image=tf.read_file(image_path)\n",
        "  return preprocess_image(image)\n"
      ],
      "execution_count": 0,
      "outputs": []
    },
    {
      "cell_type": "code",
      "metadata": {
        "id": "pFHM8p9WGQm0",
        "colab_type": "code",
        "colab": {}
      },
      "source": [
        "import numpy as np\n",
        "aip=np.array(all_images_path)\n",
        "path_ds=tf.data.Dataset.from_tensor_slices(aip)\n",
        "image_ds = path_ds.map(load_and_preprocess_image, num_parallel_calls=AUTOTUNE)\n",
        "label_ds = tf.data.Dataset.from_tensor_slices(tf.cast(all_images_label, tf.int64))\n",
        "image_label_ds = tf.data.Dataset.zip((image_ds, label_ds))\n",
        "BATCH_SIZE = 32\n",
        "image_count=len(all_images_label)\n",
        "ds = image_label_ds.shuffle(buffer_size=image_count)\n",
        "ds = ds.repeat()\n",
        "ds = ds.batch(BATCH_SIZE)\n",
        "ds = ds.prefetch(buffer_size=AUTOTUNE)\n",
        "image_batch, label_batch = next(iter(ds))"
      ],
      "execution_count": 0,
      "outputs": []
    },
    {
      "cell_type": "code",
      "metadata": {
        "id": "fPtA6Qy2GnUx",
        "colab_type": "code",
        "outputId": "c0801436-2bce-4272-c174-0529f6539223",
        "colab": {
          "base_uri": "https://localhost:8080/",
          "height": 121
        }
      },
      "source": [
        "tf.disable_eager_execution()\n",
        "vgg_model=tf.keras.applications.VGG16(weights='imagenet',include_top=False,input_shape=(224,224,3))\n"
      ],
      "execution_count": 0,
      "outputs": [
        {
          "output_type": "stream",
          "text": [
            "WARNING:tensorflow:From /usr/local/lib/python3.6/dist-packages/tensorflow/python/ops/init_ops.py:1251: calling VarianceScaling.__init__ (from tensorflow.python.ops.init_ops) with dtype is deprecated and will be removed in a future version.\n",
            "Instructions for updating:\n",
            "Call initializer instance with the dtype argument instead of passing it to the constructor\n",
            "Downloading data from https://github.com/fchollet/deep-learning-models/releases/download/v0.1/vgg16_weights_tf_dim_ordering_tf_kernels_notop.h5\n",
            "58892288/58889256 [==============================] - 1s 0us/step\n"
          ],
          "name": "stdout"
        }
      ]
    },
    {
      "cell_type": "code",
      "metadata": {
        "id": "6L_aHNhmOyAL",
        "colab_type": "code",
        "colab": {}
      },
      "source": [
        "layer_dict=dict([(layer.name, layer) for layer in vgg_model.layers])"
      ],
      "execution_count": 0,
      "outputs": []
    },
    {
      "cell_type": "code",
      "metadata": {
        "id": "1DaaFg2RDEir",
        "colab_type": "code",
        "outputId": "f7ae7784-afd7-47a4-cf5b-403a668c180d",
        "colab": {
          "base_uri": "https://localhost:8080/",
          "height": 336
        }
      },
      "source": [
        "layer_dict"
      ],
      "execution_count": 0,
      "outputs": [
        {
          "output_type": "execute_result",
          "data": {
            "text/plain": [
              "{'block1_conv1': <tensorflow.python.keras.layers.convolutional.Conv2D at 0x7f410b54af60>,\n",
              " 'block1_conv2': <tensorflow.python.keras.layers.convolutional.Conv2D at 0x7f414292a518>,\n",
              " 'block1_pool': <tensorflow.python.keras.layers.pooling.MaxPooling2D at 0x7f4102bbccf8>,\n",
              " 'block2_conv1': <tensorflow.python.keras.layers.convolutional.Conv2D at 0x7f4102bdd7f0>,\n",
              " 'block2_conv2': <tensorflow.python.keras.layers.convolutional.Conv2D at 0x7f4102b8f208>,\n",
              " 'block2_pool': <tensorflow.python.keras.layers.pooling.MaxPooling2D at 0x7f4102b351d0>,\n",
              " 'block3_conv1': <tensorflow.python.keras.layers.convolutional.Conv2D at 0x7f4102b35a20>,\n",
              " 'block3_conv2': <tensorflow.python.keras.layers.convolutional.Conv2D at 0x7f4102b3b588>,\n",
              " 'block3_conv3': <tensorflow.python.keras.layers.convolutional.Conv2D at 0x7f4102b3be10>,\n",
              " 'block3_pool': <tensorflow.python.keras.layers.pooling.MaxPooling2D at 0x7f4102ab7160>,\n",
              " 'block4_conv1': <tensorflow.python.keras.layers.convolutional.Conv2D at 0x7f4102ab7f28>,\n",
              " 'block4_conv2': <tensorflow.python.keras.layers.convolutional.Conv2D at 0x7f4102ae49b0>,\n",
              " 'block4_conv3': <tensorflow.python.keras.layers.convolutional.Conv2D at 0x7f4102a8a908>,\n",
              " 'block4_pool': <tensorflow.python.keras.layers.pooling.MaxPooling2D at 0x7f4102a368d0>,\n",
              " 'block5_conv1': <tensorflow.python.keras.layers.convolutional.Conv2D at 0x7f4102a4c588>,\n",
              " 'block5_conv2': <tensorflow.python.keras.layers.convolutional.Conv2D at 0x7f4102a61d30>,\n",
              " 'block5_conv3': <tensorflow.python.keras.layers.convolutional.Conv2D at 0x7f4102a03d30>,\n",
              " 'block5_pool': <tensorflow.python.keras.layers.pooling.MaxPooling2D at 0x7f41029af780>,\n",
              " 'input_1': <tensorflow.python.keras.engine.input_layer.InputLayer at 0x7f4154271e48>}"
            ]
          },
          "metadata": {
            "tags": []
          },
          "execution_count": 37
        }
      ]
    },
    {
      "cell_type": "code",
      "metadata": {
        "id": "iM5_x38sDZLY",
        "colab_type": "code",
        "outputId": "83631478-2ef7-400a-ba2e-46d4e9196b2a",
        "colab": {
          "base_uri": "https://localhost:8080/",
          "height": 790
        }
      },
      "source": [
        "vgg_model.summary()"
      ],
      "execution_count": 0,
      "outputs": [
        {
          "output_type": "stream",
          "text": [
            "Model: \"vgg16\"\n",
            "_________________________________________________________________\n",
            "Layer (type)                 Output Shape              Param #   \n",
            "=================================================================\n",
            "input_1 (InputLayer)         (None, 224, 224, 3)       0         \n",
            "_________________________________________________________________\n",
            "block1_conv1 (Conv2D)        (None, 224, 224, 64)      1792      \n",
            "_________________________________________________________________\n",
            "block1_conv2 (Conv2D)        (None, 224, 224, 64)      36928     \n",
            "_________________________________________________________________\n",
            "block1_pool (MaxPooling2D)   (None, 112, 112, 64)      0         \n",
            "_________________________________________________________________\n",
            "block2_conv1 (Conv2D)        (None, 112, 112, 128)     73856     \n",
            "_________________________________________________________________\n",
            "block2_conv2 (Conv2D)        (None, 112, 112, 128)     147584    \n",
            "_________________________________________________________________\n",
            "block2_pool (MaxPooling2D)   (None, 56, 56, 128)       0         \n",
            "_________________________________________________________________\n",
            "block3_conv1 (Conv2D)        (None, 56, 56, 256)       295168    \n",
            "_________________________________________________________________\n",
            "block3_conv2 (Conv2D)        (None, 56, 56, 256)       590080    \n",
            "_________________________________________________________________\n",
            "block3_conv3 (Conv2D)        (None, 56, 56, 256)       590080    \n",
            "_________________________________________________________________\n",
            "block3_pool (MaxPooling2D)   (None, 28, 28, 256)       0         \n",
            "_________________________________________________________________\n",
            "block4_conv1 (Conv2D)        (None, 28, 28, 512)       1180160   \n",
            "_________________________________________________________________\n",
            "block4_conv2 (Conv2D)        (None, 28, 28, 512)       2359808   \n",
            "_________________________________________________________________\n",
            "block4_conv3 (Conv2D)        (None, 28, 28, 512)       2359808   \n",
            "_________________________________________________________________\n",
            "block4_pool (MaxPooling2D)   (None, 14, 14, 512)       0         \n",
            "_________________________________________________________________\n",
            "block5_conv1 (Conv2D)        (None, 14, 14, 512)       2359808   \n",
            "_________________________________________________________________\n",
            "block5_conv2 (Conv2D)        (None, 14, 14, 512)       2359808   \n",
            "_________________________________________________________________\n",
            "block5_conv3 (Conv2D)        (None, 14, 14, 512)       2359808   \n",
            "_________________________________________________________________\n",
            "block5_pool (MaxPooling2D)   (None, 7, 7, 512)         0         \n",
            "=================================================================\n",
            "Total params: 14,714,688\n",
            "Trainable params: 14,714,688\n",
            "Non-trainable params: 0\n",
            "_________________________________________________________________\n"
          ],
          "name": "stdout"
        }
      ]
    },
    {
      "cell_type": "code",
      "metadata": {
        "id": "elUX4pvQOQFF",
        "colab_type": "code",
        "outputId": "7611e248-1ad2-443d-867b-cff398c4e7d8",
        "colab": {
          "base_uri": "https://localhost:8080/",
          "height": 229
        }
      },
      "source": [
        "import keras\n",
        "model=keras\n",
        "vgg_model.add(keras.layers.Flatten())\n",
        "vgg_model.add(keras.layers.Dense(512,activation='relu'))\n",
        "vgg_model.add(keras.layers.Dense(32,activation='softmax'))\n",
        "for layer in vgg_model.layers[:7]:\n",
        "    layer.trainable = False\n"
      ],
      "execution_count": 0,
      "outputs": [
        {
          "output_type": "error",
          "ename": "AttributeError",
          "evalue": "ignored",
          "traceback": [
            "\u001b[0;31m---------------------------------------------------------------------------\u001b[0m",
            "\u001b[0;31mAttributeError\u001b[0m                            Traceback (most recent call last)",
            "\u001b[0;32m<ipython-input-40-d5c09777c951>\u001b[0m in \u001b[0;36m<module>\u001b[0;34m()\u001b[0m\n\u001b[1;32m      1\u001b[0m \u001b[0;32mimport\u001b[0m \u001b[0mkeras\u001b[0m\u001b[0;34m\u001b[0m\u001b[0;34m\u001b[0m\u001b[0m\n\u001b[0;32m----> 2\u001b[0;31m \u001b[0mvgg_model\u001b[0m\u001b[0;34m.\u001b[0m\u001b[0madd\u001b[0m\u001b[0;34m(\u001b[0m\u001b[0mkeras\u001b[0m\u001b[0;34m.\u001b[0m\u001b[0mlayers\u001b[0m\u001b[0;34m.\u001b[0m\u001b[0mFlatten\u001b[0m\u001b[0;34m(\u001b[0m\u001b[0;34m)\u001b[0m\u001b[0;34m)\u001b[0m\u001b[0;34m\u001b[0m\u001b[0;34m\u001b[0m\u001b[0m\n\u001b[0m\u001b[1;32m      3\u001b[0m \u001b[0mvgg_model\u001b[0m\u001b[0;34m.\u001b[0m\u001b[0madd\u001b[0m\u001b[0;34m(\u001b[0m\u001b[0mkeras\u001b[0m\u001b[0;34m.\u001b[0m\u001b[0mlayers\u001b[0m\u001b[0;34m.\u001b[0m\u001b[0mDense\u001b[0m\u001b[0;34m(\u001b[0m\u001b[0;36m512\u001b[0m\u001b[0;34m,\u001b[0m\u001b[0mactivation\u001b[0m\u001b[0;34m=\u001b[0m\u001b[0;34m'relu'\u001b[0m\u001b[0;34m)\u001b[0m\u001b[0;34m)\u001b[0m\u001b[0;34m\u001b[0m\u001b[0;34m\u001b[0m\u001b[0m\n\u001b[1;32m      4\u001b[0m \u001b[0mvgg_model\u001b[0m\u001b[0;34m.\u001b[0m\u001b[0madd\u001b[0m\u001b[0;34m(\u001b[0m\u001b[0mkeras\u001b[0m\u001b[0;34m.\u001b[0m\u001b[0mlayers\u001b[0m\u001b[0;34m.\u001b[0m\u001b[0mDense\u001b[0m\u001b[0;34m(\u001b[0m\u001b[0;36m32\u001b[0m\u001b[0;34m,\u001b[0m\u001b[0mactivation\u001b[0m\u001b[0;34m=\u001b[0m\u001b[0;34m'softmax'\u001b[0m\u001b[0;34m)\u001b[0m\u001b[0;34m)\u001b[0m\u001b[0;34m\u001b[0m\u001b[0;34m\u001b[0m\u001b[0m\n\u001b[1;32m      5\u001b[0m \u001b[0;32mfor\u001b[0m \u001b[0mlayer\u001b[0m \u001b[0;32min\u001b[0m \u001b[0mvgg_model\u001b[0m\u001b[0;34m.\u001b[0m\u001b[0mlayers\u001b[0m\u001b[0;34m[\u001b[0m\u001b[0;34m:\u001b[0m\u001b[0;36m7\u001b[0m\u001b[0;34m]\u001b[0m\u001b[0;34m:\u001b[0m\u001b[0;34m\u001b[0m\u001b[0;34m\u001b[0m\u001b[0m\n",
            "\u001b[0;31mAttributeError\u001b[0m: 'Model' object has no attribute 'add'"
          ]
        }
      ]
    },
    {
      "cell_type": "code",
      "metadata": {
        "id": "fPUTVXCV6jmI",
        "colab_type": "code",
        "colab": {}
      },
      "source": [
        "rms=keras.optimizers.RMSprop(lr=0.0005, rho=0.9, epsilon=None, decay=0.0)\n",
        "model.compile(loss='categorical_crossentropy',\n",
        "                     optimizer=rms,metrics=['accuracy'])\n"
      ],
      "execution_count": 0,
      "outputs": []
    },
    {
      "cell_type": "code",
      "metadata": {
        "id": "w0klN5IFsRB_",
        "colab_type": "code",
        "colab": {}
      },
      "source": [
        "y=np.array(all_images_label)\n",
        "n_values = np.max(y) \n",
        "y_tr=np.eye(n_values)[y-1]"
      ],
      "execution_count": 0,
      "outputs": []
    },
    {
      "cell_type": "code",
      "metadata": {
        "id": "fCfMGQSdRyBT",
        "colab_type": "code",
        "outputId": "2d6b70f7-7768-4516-dd47-e63a031abf24",
        "colab": {
          "base_uri": "https://localhost:8080/",
          "height": 373
        }
      },
      "source": [
        "datagen = ImageDataGenerator(\n",
        "    featurewise_center=True,\n",
        "    featurewise_std_normalization=True,\n",
        "    rotation_range=20,\n",
        "    width_shift_range=0.2,\n",
        "    height_shift_range=0.2,\n",
        "    horizontal_flip=True)\n",
        "# train the network\n",
        "H = model.fit_generator(datagen.flow(dataset, y_tr, batch_size=16), steps_per_epoch=(len(y_tr)/32),epochs=8)"
      ],
      "execution_count": 0,
      "outputs": [
        {
          "output_type": "stream",
          "text": [
            "Epoch 1/8\n"
          ],
          "name": "stdout"
        },
        {
          "output_type": "stream",
          "text": [
            "/usr/local/lib/python3.6/dist-packages/keras_preprocessing/image/image_data_generator.py:716: UserWarning: This ImageDataGenerator specifies `featurewise_center`, but it hasn't been fit on any training data. Fit it first by calling `.fit(numpy_data)`.\n",
            "  warnings.warn('This ImageDataGenerator specifies '\n",
            "/usr/local/lib/python3.6/dist-packages/keras_preprocessing/image/image_data_generator.py:724: UserWarning: This ImageDataGenerator specifies `featurewise_std_normalization`, but it hasn't been fit on any training data. Fit it first by calling `.fit(numpy_data)`.\n",
            "  warnings.warn('This ImageDataGenerator specifies '\n"
          ],
          "name": "stderr"
        },
        {
          "output_type": "stream",
          "text": [
            "221/220 [==============================] - 33s 150ms/step - loss: 16.0041 - acc: 0.0071\n",
            "Epoch 2/8\n",
            "221/220 [==============================] - 34s 154ms/step - loss: 15.9813 - acc: 0.0085\n",
            "Epoch 3/8\n",
            "221/220 [==============================] - 35s 156ms/step - loss: 15.9722 - acc: 0.0090\n",
            "Epoch 4/8\n",
            "221/220 [==============================] - 34s 156ms/step - loss: 16.0087 - acc: 0.0068\n",
            "Epoch 5/8\n",
            "221/220 [==============================] - 34s 156ms/step - loss: 16.0041 - acc: 0.0071\n",
            "Epoch 6/8\n",
            "221/220 [==============================] - 34s 153ms/step - loss: 15.9859 - acc: 0.0082\n",
            "Epoch 7/8\n",
            "221/220 [==============================] - 34s 156ms/step - loss: 15.9813 - acc: 0.0085\n",
            "Epoch 8/8\n",
            "221/220 [==============================] - 34s 154ms/step - loss: 15.9996 - acc: 0.0074\n"
          ],
          "name": "stdout"
        }
      ]
    },
    {
      "cell_type": "code",
      "metadata": {
        "id": "n_f9vZAdFK9Q",
        "colab_type": "code",
        "outputId": "0641a150-55f2-4b64-afa2-5a1717737045",
        "colab": {
          "base_uri": "https://localhost:8080/",
          "height": 590
        }
      },
      "source": [
        "import matplotlib.pyplot as plt\n",
        "print(H.history.keys())\n",
        "# summarize history for accuracy\n",
        "plt.plot(H.history['acc'])\n",
        "plt.title('model accuracy')\n",
        "plt.ylabel('accuracy')\n",
        "plt.xlabel('epoch')\n",
        "plt.legend(['train'], loc='upper left')\n",
        "plt.show()\n",
        "# summarize history for loss\n",
        "plt.plot(H.history['loss'])\n",
        "plt.title('model loss')\n",
        "plt.ylabel('loss')\n",
        "plt.xlabel('epoch')\n",
        "plt.legend(['train'], loc='upper left')\n",
        "plt.show()"
      ],
      "execution_count": 0,
      "outputs": [
        {
          "output_type": "stream",
          "text": [
            "dict_keys(['loss', 'acc'])\n"
          ],
          "name": "stdout"
        },
        {
          "output_type": "display_data",
          "data": {
            "image/png": "[encoded data removed]",
            "text/plain": [
              "<Figure size 432x288 with 1 Axes>"
            ]
          },
          "metadata": {
            "tags": []
          }
        },
        {
          "output_type": "display_data",
          "data": {
            "image/png": "[encoded data removed]",
            "text/plain": [
              "<Figure size 432x288 with 1 Axes>"
            ]
          },
          "metadata": {
            "tags": []
          }
        }
      ]
    },
    {
      "cell_type": "code",
      "metadata": {
        "id": "gAHIesFuGlmI",
        "colab_type": "code",
        "outputId": "4c064e65-9139-44f7-b31f-0a110eaefb23",
        "colab": {
          "base_uri": "https://localhost:8080/",
          "height": 373
        }
      },
      "source": [
        "model.compile(loss='categorical_crossentropy',\n",
        "                     optimizer='Adam',metrics=['accuracy'])\n",
        "\n",
        "datagen = ImageDataGenerator(\n",
        "    featurewise_center=True,\n",
        "    featurewise_std_normalization=True,\n",
        "    rotation_range=20,\n",
        "    width_shift_range=0.2,\n",
        "    height_shift_range=0.2,\n",
        "    horizontal_flip=True)\n",
        "# train the network\n",
        "H = model.fit_generator(datagen.flow(dataset, y_tr, batch_size=16), steps_per_epoch=(len(y_tr)/32),epochs=8)"
      ],
      "execution_count": 0,
      "outputs": [
        {
          "output_type": "stream",
          "text": [
            "Epoch 1/8\n"
          ],
          "name": "stdout"
        },
        {
          "output_type": "stream",
          "text": [
            "/usr/local/lib/python3.6/dist-packages/keras_preprocessing/image/image_data_generator.py:716: UserWarning: This ImageDataGenerator specifies `featurewise_center`, but it hasn't been fit on any training data. Fit it first by calling `.fit(numpy_data)`.\n",
            "  warnings.warn('This ImageDataGenerator specifies '\n",
            "/usr/local/lib/python3.6/dist-packages/keras_preprocessing/image/image_data_generator.py:724: UserWarning: This ImageDataGenerator specifies `featurewise_std_normalization`, but it hasn't been fit on any training data. Fit it first by calling `.fit(numpy_data)`.\n",
            "  warnings.warn('This ImageDataGenerator specifies '\n"
          ],
          "name": "stderr"
        },
        {
          "output_type": "stream",
          "text": [
            "221/220 [==============================] - 34s 156ms/step - loss: 16.0087 - acc: 0.0068\n",
            "Epoch 2/8\n",
            "221/220 [==============================] - 34s 155ms/step - loss: 15.9768 - acc: 0.0088\n",
            "Epoch 3/8\n",
            "221/220 [==============================] - 34s 156ms/step - loss: 15.9829 - acc: 0.0084\n",
            "Epoch 4/8\n",
            "221/220 [==============================] - 34s 155ms/step - loss: 15.9950 - acc: 0.0076\n",
            "Epoch 5/8\n",
            "221/220 [==============================] - 33s 150ms/step - loss: 15.9905 - acc: 0.0079\n",
            "Epoch 6/8\n",
            "221/220 [==============================] - 34s 155ms/step - loss: 15.9950 - acc: 0.0076\n",
            "Epoch 7/8\n",
            "221/220 [==============================] - 33s 151ms/step - loss: 15.9950 - acc: 0.0076\n",
            "Epoch 8/8\n",
            "221/220 [==============================] - 35s 156ms/step - loss: 15.9859 - acc: 0.0082\n"
          ],
          "name": "stdout"
        }
      ]
    },
    {
      "cell_type": "code",
      "metadata": {
        "id": "dTcItBTqHIK7",
        "colab_type": "code",
        "outputId": "fc39ebf9-9b25-48fc-8953-82eb135f8a0f",
        "colab": {
          "base_uri": "https://localhost:8080/",
          "height": 590
        }
      },
      "source": [
        "import matplotlib.pyplot as plt\n",
        "print(H.history.keys())\n",
        "# summarize history for accuracy\n",
        "plt.plot(H.history['acc'])\n",
        "plt.title('model accuracy')\n",
        "plt.ylabel('accuracy')\n",
        "plt.xlabel('epoch')\n",
        "plt.legend(['train'], loc='upper left')\n",
        "plt.show()\n",
        "# summarize history for loss\n",
        "plt.plot(H.history['loss'])\n",
        "plt.title('model loss')\n",
        "plt.ylabel('loss')\n",
        "plt.xlabel('epoch')\n",
        "plt.legend(['train'], loc='upper left')\n",
        "plt.show()"
      ],
      "execution_count": 0,
      "outputs": [
        {
          "output_type": "stream",
          "text": [
            "dict_keys(['loss', 'acc'])\n"
          ],
          "name": "stdout"
        },
        {
          "output_type": "display_data",
          "data": {
            "image/png": "[encoded data removed]",
            "text/plain": [
              "<Figure size 432x288 with 1 Axes>"
            ]
          },
          "metadata": {
            "tags": []
          }
        },
        {
          "output_type": "display_data",
          "data": {
            "image/png": "[encoded data removed]",
            "text/plain": [
              "<Figure size 432x288 with 1 Axes>"
            ]
          },
          "metadata": {
            "tags": []
          }
        }
      ]
    },
    {
      "cell_type": "code",
      "metadata": {
        "id": "k1rU5Q4qIWOM",
        "colab_type": "code",
        "outputId": "65268b4b-533b-467e-f7b8-a028994611e0",
        "colab": {
          "base_uri": "https://localhost:8080/",
          "height": 50
        }
      },
      "source": [
        "import keras\n",
        "x=layer_dict['block5_pool'].output\n",
        "x=keras.layers.Flatten()(x)\n",
        "x=keras.layers.Dense(512,activation='relu')(x)\n",
        "x=keras.layers.Dense(512,activation='relu')(x)\n",
        "x=keras.layers.Dense(211,activation='softmax')(x)\n",
        "\n",
        "from keras.models import Model\n",
        "model=Model(input=vgg_model.input,output=x)\n",
        "for layer in model.layers[:15]:\n",
        "    layer.trainable = False\n",
        "model.compile(loss='categorical_crossentropy',\n",
        "                     optimizer='rmsprop',metrics=['accuracy'])\n"
      ],
      "execution_count": 0,
      "outputs": [
        {
          "output_type": "stream",
          "text": [
            "/usr/local/lib/python3.6/dist-packages/ipykernel_launcher.py:9: UserWarning: Update your `Model` call to the Keras 2 API: `Model(inputs=Tensor(\"in..., outputs=Tensor(\"de...)`\n",
            "  if __name__ == '__main__':\n"
          ],
          "name": "stderr"
        }
      ]
    },
    {
      "cell_type": "code",
      "metadata": {
        "id": "1z1JMCXXI6Cq",
        "colab_type": "code",
        "outputId": "1e8586ca-ba25-4197-d7fc-ec6eb424d0e9",
        "colab": {
          "base_uri": "https://localhost:8080/",
          "height": 373
        }
      },
      "source": [
        "model.compile(loss='categorical_crossentropy',\n",
        "                     optimizer='Adam',metrics=['accuracy'])\n",
        "\n",
        "datagen = ImageDataGenerator(\n",
        "    featurewise_center=True,\n",
        "    featurewise_std_normalization=True,\n",
        "    rotation_range=20,\n",
        "    width_shift_range=0.2,\n",
        "    height_shift_range=0.2,\n",
        "    horizontal_flip=True)\n",
        "# train the network\n",
        "H = model.fit_generator(datagen.flow(dataset, y_tr, batch_size=16), steps_per_epoch=(len(y_tr)/32),epochs=8)"
      ],
      "execution_count": 0,
      "outputs": [
        {
          "output_type": "stream",
          "text": [
            "Epoch 1/8\n"
          ],
          "name": "stdout"
        },
        {
          "output_type": "stream",
          "text": [
            "/usr/local/lib/python3.6/dist-packages/keras_preprocessing/image/image_data_generator.py:716: UserWarning: This ImageDataGenerator specifies `featurewise_center`, but it hasn't been fit on any training data. Fit it first by calling `.fit(numpy_data)`.\n",
            "  warnings.warn('This ImageDataGenerator specifies '\n",
            "/usr/local/lib/python3.6/dist-packages/keras_preprocessing/image/image_data_generator.py:724: UserWarning: This ImageDataGenerator specifies `featurewise_std_normalization`, but it hasn't been fit on any training data. Fit it first by calling `.fit(numpy_data)`.\n",
            "  warnings.warn('This ImageDataGenerator specifies '\n"
          ],
          "name": "stderr"
        },
        {
          "output_type": "stream",
          "text": [
            "221/220 [==============================] - 34s 155ms/step - loss: 5.4434 - acc: 0.0178\n",
            "Epoch 2/8\n",
            "221/220 [==============================] - 34s 153ms/step - loss: 4.7398 - acc: 0.0509\n",
            "Epoch 3/8\n",
            "221/220 [==============================] - 32s 147ms/step - loss: 4.0121 - acc: 0.1173\n",
            "Epoch 4/8\n",
            "221/220 [==============================] - 34s 152ms/step - loss: 3.6086 - acc: 0.1773\n",
            "Epoch 5/8\n",
            "221/220 [==============================] - 35s 157ms/step - loss: 3.2007 - acc: 0.2327\n",
            "Epoch 6/8\n",
            "221/220 [==============================] - 34s 154ms/step - loss: 3.0519 - acc: 0.2696\n",
            "Epoch 7/8\n",
            "221/220 [==============================] - 34s 154ms/step - loss: 2.7771 - acc: 0.3037\n",
            "Epoch 8/8\n",
            "221/220 [==============================] - 35s 157ms/step - loss: 2.6838 - acc: 0.3439\n"
          ],
          "name": "stdout"
        }
      ]
    },
    {
      "cell_type": "code",
      "metadata": {
        "id": "YxY2o1aDI_Tp",
        "colab_type": "code",
        "outputId": "a49593a2-55aa-45bf-a79d-89572c420da4",
        "colab": {
          "base_uri": "https://localhost:8080/",
          "height": 590
        }
      },
      "source": [
        "import matplotlib.pyplot as plt\n",
        "print(H.history.keys())\n",
        "# summarize history for accuracy\n",
        "plt.plot(H.history['acc'])\n",
        "plt.title('model accuracy')\n",
        "plt.ylabel('accuracy')\n",
        "plt.xlabel('epoch')\n",
        "plt.legend(['train'], loc='upper left')\n",
        "plt.show()\n",
        "# summarize history for loss\n",
        "plt.plot(H.history['loss'])\n",
        "plt.title('model loss')\n",
        "plt.ylabel('loss')\n",
        "plt.xlabel('epoch')\n",
        "plt.legend(['train'], loc='upper left')\n",
        "plt.show()"
      ],
      "execution_count": 0,
      "outputs": [
        {
          "output_type": "stream",
          "text": [
            "dict_keys(['loss', 'acc'])\n"
          ],
          "name": "stdout"
        },
        {
          "output_type": "display_data",
          "data": {
            "image/png": "[encoded data removed]",
            "text/plain": [
              "<Figure size 432x288 with 1 Axes>"
            ]
          },
          "metadata": {
            "tags": []
          }
        },
        {
          "output_type": "display_data",
          "data": {
            "image/png": "[encoded data removed]",
            "text/plain": [
              "<Figure size 432x288 with 1 Axes>"
            ]
          },
          "metadata": {
            "tags": []
          }
        }
      ]
    },
    {
      "cell_type": "code",
      "metadata": {
        "id": "Cvbe37epKeoa",
        "colab_type": "code",
        "outputId": "5cd9851a-4e53-4193-9238-286d709c79e4",
        "colab": {
          "base_uri": "https://localhost:8080/",
          "height": 776
        }
      },
      "source": [
        "H = model.fit_generator(datagen.flow(dataset, y_tr, batch_size=16), steps_per_epoch=(len(y_tr)/32),epochs=20)"
      ],
      "execution_count": 0,
      "outputs": [
        {
          "output_type": "stream",
          "text": [
            "Epoch 1/20\n"
          ],
          "name": "stdout"
        },
        {
          "output_type": "stream",
          "text": [
            "/usr/local/lib/python3.6/dist-packages/keras_preprocessing/image/image_data_generator.py:716: UserWarning: This ImageDataGenerator specifies `featurewise_center`, but it hasn't been fit on any training data. Fit it first by calling `.fit(numpy_data)`.\n",
            "  warnings.warn('This ImageDataGenerator specifies '\n",
            "/usr/local/lib/python3.6/dist-packages/keras_preprocessing/image/image_data_generator.py:724: UserWarning: This ImageDataGenerator specifies `featurewise_std_normalization`, but it hasn't been fit on any training data. Fit it first by calling `.fit(numpy_data)`.\n",
            "  warnings.warn('This ImageDataGenerator specifies '\n"
          ],
          "name": "stderr"
        },
        {
          "output_type": "stream",
          "text": [
            "221/220 [==============================] - 35s 157ms/step - loss: 1.3039 - acc: 0.6290\n",
            "Epoch 2/20\n",
            "221/220 [==============================] - 35s 157ms/step - loss: 1.2721 - acc: 0.6462\n",
            "Epoch 3/20\n",
            "221/220 [==============================] - 35s 157ms/step - loss: 1.2610 - acc: 0.6355\n",
            "Epoch 4/20\n",
            "221/220 [==============================] - 35s 157ms/step - loss: 1.3727 - acc: 0.6213\n",
            "Epoch 5/20\n",
            "221/220 [==============================] - 34s 154ms/step - loss: 1.2394 - acc: 0.6460\n",
            "Epoch 6/20\n",
            "221/220 [==============================] - 34s 155ms/step - loss: 1.2337 - acc: 0.6417\n",
            "Epoch 7/20\n",
            "221/220 [==============================] - 34s 154ms/step - loss: 1.1813 - acc: 0.6562\n",
            "Epoch 8/20\n",
            "221/220 [==============================] - 34s 152ms/step - loss: 1.2602 - acc: 0.6420\n",
            "Epoch 9/20\n",
            "221/220 [==============================] - 34s 156ms/step - loss: 1.2202 - acc: 0.6547\n",
            "Epoch 10/20\n",
            "221/220 [==============================] - 35s 157ms/step - loss: 1.2154 - acc: 0.6441\n",
            "Epoch 11/20\n",
            "221/220 [==============================] - 34s 154ms/step - loss: 1.1711 - acc: 0.6587\n",
            "Epoch 12/20\n",
            "221/220 [==============================] - 35s 157ms/step - loss: 1.2300 - acc: 0.6524\n",
            "Epoch 13/20\n",
            "221/220 [==============================] - 34s 156ms/step - loss: 1.1494 - acc: 0.6636\n",
            "Epoch 14/20\n",
            "221/220 [==============================] - 34s 154ms/step - loss: 1.2038 - acc: 0.6550\n",
            "Epoch 15/20\n",
            "221/220 [==============================] - 34s 153ms/step - loss: 1.1125 - acc: 0.6731\n",
            "Epoch 16/20\n",
            "221/220 [==============================] - 34s 155ms/step - loss: 1.2248 - acc: 0.6494\n",
            "Epoch 17/20\n",
            "221/220 [==============================] - 34s 153ms/step - loss: 1.1159 - acc: 0.6759\n",
            "Epoch 18/20\n",
            "221/220 [==============================] - 35s 157ms/step - loss: 1.1856 - acc: 0.6629\n",
            "Epoch 19/20\n",
            "221/220 [==============================] - 34s 154ms/step - loss: 1.0579 - acc: 0.6807\n",
            "Epoch 20/20\n",
            "221/220 [==============================] - 35s 158ms/step - loss: 1.1583 - acc: 0.6574\n"
          ],
          "name": "stdout"
        }
      ]
    },
    {
      "cell_type": "code",
      "metadata": {
        "id": "peEvtiCrS6hA",
        "colab_type": "code",
        "outputId": "e044de80-52c4-4cbf-db3f-063184d4bd6c",
        "colab": {
          "base_uri": "https://localhost:8080/",
          "height": 590
        }
      },
      "source": [
        "import matplotlib.pyplot as plt\n",
        "print(H.history.keys())\n",
        "# summarize history for accuracy\n",
        "plt.plot(H.history['acc'])\n",
        "plt.title('model accuracy')\n",
        "plt.ylabel('accuracy')\n",
        "plt.xlabel('epoch')\n",
        "plt.legend(['train'], loc='upper left')\n",
        "plt.show()\n",
        "# summarize history for loss\n",
        "plt.plot(H.history['loss'])\n",
        "plt.title('model loss')\n",
        "plt.ylabel('loss')\n",
        "plt.xlabel('epoch')\n",
        "plt.legend(['train'], loc='upper left')\n",
        "plt.show()"
      ],
      "execution_count": 0,
      "outputs": [
        {
          "output_type": "stream",
          "text": [
            "dict_keys(['loss', 'acc'])\n"
          ],
          "name": "stdout"
        },
        {
          "output_type": "display_data",
          "data": {
            "image/png": "[encoded data removed]",
            "text/plain": [
              "<Figure size 432x288 with 1 Axes>"
            ]
          },
          "metadata": {
            "tags": []
          }
        },
        {
          "output_type": "display_data",
          "data": {
            "image/png": "[encoded data removed]",
            "text/plain": [
              "<Figure size 432x288 with 1 Axes>"
            ]
          },
          "metadata": {
            "tags": []
          }
        }
      ]
    },
    {
      "cell_type": "code",
      "metadata": {
        "id": "GRGr2du-TAg2",
        "colab_type": "code",
        "outputId": "2e9412b8-8d2c-470d-cd9b-596910deecb5",
        "colab": {
          "base_uri": "https://localhost:8080/",
          "height": 404
        }
      },
      "source": [
        "\n",
        "x=layer_dict['block5_pool'].output\n",
        "x=tf.keras.layers.Flatten()(x)\n",
        "x=tf.keras.layers.Dense(2048,activation='relu')(x)\n",
        "x=tf.keras.layers.Dense(1024,activation='relu')(x)\n",
        "x=tf.keras.layers.Dense(512,activation='relu')(x)\n",
        "x=tf.keras.layers.Dense(211,activation='softmax')(x)\n",
        "\n",
        "from keras.models import Model\n",
        "model=Model(input=vgg_model.input,output=x)\n",
        "for layer in model.layers[:15]:\n",
        "    layer.trainable = False\n",
        "model.compile(loss='categorical_crossentropy',\n",
        "                     optimizer='rmsprop',metrics=['accuracy'])\n",
        "\n"
      ],
      "execution_count": 0,
      "outputs": [
        {
          "output_type": "stream",
          "text": [
            "/usr/local/lib/python3.6/dist-packages/ipykernel_launcher.py:10: UserWarning: Update your `Model` call to the Keras 2 API: `Model(inputs=Tensor(\"in..., outputs=Tensor(\"de...)`\n",
            "  # Remove the CWD from sys.path while we load stuff.\n"
          ],
          "name": "stderr"
        },
        {
          "output_type": "error",
          "ename": "TypeError",
          "evalue": "ignored",
          "traceback": [
            "\u001b[0;31m---------------------------------------------------------------------------\u001b[0m",
            "\u001b[0;31mTypeError\u001b[0m                                 Traceback (most recent call last)",
            "\u001b[0;32m<ipython-input-41-53250a9e7292>\u001b[0m in \u001b[0;36m<module>\u001b[0;34m()\u001b[0m\n\u001b[1;32m      8\u001b[0m \u001b[0;34m\u001b[0m\u001b[0m\n\u001b[1;32m      9\u001b[0m \u001b[0;32mfrom\u001b[0m \u001b[0mkeras\u001b[0m\u001b[0;34m.\u001b[0m\u001b[0mmodels\u001b[0m \u001b[0;32mimport\u001b[0m \u001b[0mModel\u001b[0m\u001b[0;34m\u001b[0m\u001b[0;34m\u001b[0m\u001b[0m\n\u001b[0;32m---> 10\u001b[0;31m \u001b[0mmodel\u001b[0m\u001b[0;34m=\u001b[0m\u001b[0mModel\u001b[0m\u001b[0;34m(\u001b[0m\u001b[0minput\u001b[0m\u001b[0;34m=\u001b[0m\u001b[0mvgg_model\u001b[0m\u001b[0;34m.\u001b[0m\u001b[0minput\u001b[0m\u001b[0;34m,\u001b[0m\u001b[0moutput\u001b[0m\u001b[0;34m=\u001b[0m\u001b[0mx\u001b[0m\u001b[0;34m)\u001b[0m\u001b[0;34m\u001b[0m\u001b[0;34m\u001b[0m\u001b[0m\n\u001b[0m\u001b[1;32m     11\u001b[0m \u001b[0;32mfor\u001b[0m \u001b[0mlayer\u001b[0m \u001b[0;32min\u001b[0m \u001b[0mmodel\u001b[0m\u001b[0;34m.\u001b[0m\u001b[0mlayers\u001b[0m\u001b[0;34m[\u001b[0m\u001b[0;34m:\u001b[0m\u001b[0;36m15\u001b[0m\u001b[0;34m]\u001b[0m\u001b[0;34m:\u001b[0m\u001b[0;34m\u001b[0m\u001b[0;34m\u001b[0m\u001b[0m\n\u001b[1;32m     12\u001b[0m     \u001b[0mlayer\u001b[0m\u001b[0;34m.\u001b[0m\u001b[0mtrainable\u001b[0m \u001b[0;34m=\u001b[0m \u001b[0;32mFalse\u001b[0m\u001b[0;34m\u001b[0m\u001b[0;34m\u001b[0m\u001b[0m\n",
            "\u001b[0;32m/usr/local/lib/python3.6/dist-packages/keras/legacy/interfaces.py\u001b[0m in \u001b[0;36mwrapper\u001b[0;34m(*args, **kwargs)\u001b[0m\n\u001b[1;32m     89\u001b[0m                 warnings.warn('Update your `' + object_name + '` call to the ' +\n\u001b[1;32m     90\u001b[0m                               'Keras 2 API: ' + signature, stacklevel=2)\n\u001b[0;32m---> 91\u001b[0;31m             \u001b[0;32mreturn\u001b[0m \u001b[0mfunc\u001b[0m\u001b[0;34m(\u001b[0m\u001b[0;34m*\u001b[0m\u001b[0margs\u001b[0m\u001b[0;34m,\u001b[0m \u001b[0;34m**\u001b[0m\u001b[0mkwargs\u001b[0m\u001b[0;34m)\u001b[0m\u001b[0;34m\u001b[0m\u001b[0;34m\u001b[0m\u001b[0m\n\u001b[0m\u001b[1;32m     92\u001b[0m         \u001b[0mwrapper\u001b[0m\u001b[0;34m.\u001b[0m\u001b[0m_original_function\u001b[0m \u001b[0;34m=\u001b[0m \u001b[0mfunc\u001b[0m\u001b[0;34m\u001b[0m\u001b[0;34m\u001b[0m\u001b[0m\n\u001b[1;32m     93\u001b[0m         \u001b[0;32mreturn\u001b[0m \u001b[0mwrapper\u001b[0m\u001b[0;34m\u001b[0m\u001b[0;34m\u001b[0m\u001b[0m\n",
            "\u001b[0;32m/usr/local/lib/python3.6/dist-packages/keras/engine/network.py\u001b[0m in \u001b[0;36m__init__\u001b[0;34m(self, *args, **kwargs)\u001b[0m\n\u001b[1;32m     92\u001b[0m                 'inputs' in kwargs and 'outputs' in kwargs):\n\u001b[1;32m     93\u001b[0m             \u001b[0;31m# Graph network\u001b[0m\u001b[0;34m\u001b[0m\u001b[0;34m\u001b[0m\u001b[0;34m\u001b[0m\u001b[0m\n\u001b[0;32m---> 94\u001b[0;31m             \u001b[0mself\u001b[0m\u001b[0;34m.\u001b[0m\u001b[0m_init_graph_network\u001b[0m\u001b[0;34m(\u001b[0m\u001b[0;34m*\u001b[0m\u001b[0margs\u001b[0m\u001b[0;34m,\u001b[0m \u001b[0;34m**\u001b[0m\u001b[0mkwargs\u001b[0m\u001b[0;34m)\u001b[0m\u001b[0;34m\u001b[0m\u001b[0;34m\u001b[0m\u001b[0m\n\u001b[0m\u001b[1;32m     95\u001b[0m         \u001b[0;32melse\u001b[0m\u001b[0;34m:\u001b[0m\u001b[0;34m\u001b[0m\u001b[0;34m\u001b[0m\u001b[0m\n\u001b[1;32m     96\u001b[0m             \u001b[0;31m# Subclassed network\u001b[0m\u001b[0;34m\u001b[0m\u001b[0;34m\u001b[0m\u001b[0;34m\u001b[0m\u001b[0m\n",
            "\u001b[0;32m/usr/local/lib/python3.6/dist-packages/keras/engine/network.py\u001b[0m in \u001b[0;36m_init_graph_network\u001b[0;34m(self, inputs, outputs, name, **kwargs)\u001b[0m\n\u001b[1;32m    235\u001b[0m         \u001b[0;31m# Keep track of the network's nodes and layers.\u001b[0m\u001b[0;34m\u001b[0m\u001b[0;34m\u001b[0m\u001b[0;34m\u001b[0m\u001b[0m\n\u001b[1;32m    236\u001b[0m         nodes, nodes_by_depth, layers, layers_by_depth = _map_graph_network(\n\u001b[0;32m--> 237\u001b[0;31m             self.inputs, self.outputs)\n\u001b[0m\u001b[1;32m    238\u001b[0m         \u001b[0mself\u001b[0m\u001b[0;34m.\u001b[0m\u001b[0m_network_nodes\u001b[0m \u001b[0;34m=\u001b[0m \u001b[0mnodes\u001b[0m\u001b[0;34m\u001b[0m\u001b[0;34m\u001b[0m\u001b[0m\n\u001b[1;32m    239\u001b[0m         \u001b[0mself\u001b[0m\u001b[0;34m.\u001b[0m\u001b[0m_nodes_by_depth\u001b[0m \u001b[0;34m=\u001b[0m \u001b[0mnodes_by_depth\u001b[0m\u001b[0;34m\u001b[0m\u001b[0;34m\u001b[0m\u001b[0m\n",
            "\u001b[0;32m/usr/local/lib/python3.6/dist-packages/keras/engine/network.py\u001b[0m in \u001b[0;36m_map_graph_network\u001b[0;34m(inputs, outputs)\u001b[0m\n\u001b[1;32m   1419\u001b[0m                   \u001b[0mlayer\u001b[0m\u001b[0;34m=\u001b[0m\u001b[0mlayer\u001b[0m\u001b[0;34m,\u001b[0m\u001b[0;34m\u001b[0m\u001b[0;34m\u001b[0m\u001b[0m\n\u001b[1;32m   1420\u001b[0m                   \u001b[0mnode_index\u001b[0m\u001b[0;34m=\u001b[0m\u001b[0mnode_index\u001b[0m\u001b[0;34m,\u001b[0m\u001b[0;34m\u001b[0m\u001b[0;34m\u001b[0m\u001b[0m\n\u001b[0;32m-> 1421\u001b[0;31m                   tensor_index=tensor_index)\n\u001b[0m\u001b[1;32m   1422\u001b[0m \u001b[0;34m\u001b[0m\u001b[0m\n\u001b[1;32m   1423\u001b[0m     \u001b[0;32mfor\u001b[0m \u001b[0mnode\u001b[0m \u001b[0;32min\u001b[0m \u001b[0mreversed\u001b[0m\u001b[0;34m(\u001b[0m\u001b[0mnodes_in_decreasing_depth\u001b[0m\u001b[0;34m)\u001b[0m\u001b[0;34m:\u001b[0m\u001b[0;34m\u001b[0m\u001b[0;34m\u001b[0m\u001b[0m\n",
            "\u001b[0;32m/usr/local/lib/python3.6/dist-packages/keras/engine/network.py\u001b[0m in \u001b[0;36mbuild_map\u001b[0;34m(tensor, finished_nodes, nodes_in_progress, layer, node_index, tensor_index)\u001b[0m\n\u001b[1;32m   1400\u001b[0m \u001b[0;34m\u001b[0m\u001b[0m\n\u001b[1;32m   1401\u001b[0m         \u001b[0;31m# Propagate to all previous tensors connected to this node.\u001b[0m\u001b[0;34m\u001b[0m\u001b[0;34m\u001b[0m\u001b[0;34m\u001b[0m\u001b[0m\n\u001b[0;32m-> 1402\u001b[0;31m         \u001b[0;32mfor\u001b[0m \u001b[0mi\u001b[0m \u001b[0;32min\u001b[0m \u001b[0mrange\u001b[0m\u001b[0;34m(\u001b[0m\u001b[0mlen\u001b[0m\u001b[0;34m(\u001b[0m\u001b[0mnode\u001b[0m\u001b[0;34m.\u001b[0m\u001b[0minbound_layers\u001b[0m\u001b[0;34m)\u001b[0m\u001b[0;34m)\u001b[0m\u001b[0;34m:\u001b[0m\u001b[0;34m\u001b[0m\u001b[0;34m\u001b[0m\u001b[0m\n\u001b[0m\u001b[1;32m   1403\u001b[0m             \u001b[0mx\u001b[0m \u001b[0;34m=\u001b[0m \u001b[0mnode\u001b[0m\u001b[0;34m.\u001b[0m\u001b[0minput_tensors\u001b[0m\u001b[0;34m[\u001b[0m\u001b[0mi\u001b[0m\u001b[0;34m]\u001b[0m\u001b[0;34m\u001b[0m\u001b[0;34m\u001b[0m\u001b[0m\n\u001b[1;32m   1404\u001b[0m             \u001b[0mlayer\u001b[0m \u001b[0;34m=\u001b[0m \u001b[0mnode\u001b[0m\u001b[0;34m.\u001b[0m\u001b[0minbound_layers\u001b[0m\u001b[0;34m[\u001b[0m\u001b[0mi\u001b[0m\u001b[0;34m]\u001b[0m\u001b[0;34m\u001b[0m\u001b[0;34m\u001b[0m\u001b[0m\n",
            "\u001b[0;31mTypeError\u001b[0m: object of type 'Dense' has no len()"
          ]
        }
      ]
    },
    {
      "cell_type": "code",
      "metadata": {
        "id": "xA1nqBZGTKVO",
        "colab_type": "code",
        "outputId": "d72a43b3-d168-4fa4-e13c-452515a1dd4f",
        "colab": {
          "base_uri": "https://localhost:8080/",
          "height": 525
        }
      },
      "source": [
        "H = model.fit_generator(datagen.flow(dataset, y_tr, batch_size=32), steps_per_epoch=(len(y_tr)/32),epochs=10)"
      ],
      "execution_count": 0,
      "outputs": [
        {
          "output_type": "stream",
          "text": [
            "Epoch 1/10\n"
          ],
          "name": "stdout"
        },
        {
          "output_type": "stream",
          "text": [
            "/usr/local/lib/python3.6/dist-packages/keras_preprocessing/image/image_data_generator.py:716: UserWarning: This ImageDataGenerator specifies `featurewise_center`, but it hasn't been fit on any training data. Fit it first by calling `.fit(numpy_data)`.\n",
            "  warnings.warn('This ImageDataGenerator specifies '\n",
            "/usr/local/lib/python3.6/dist-packages/keras_preprocessing/image/image_data_generator.py:724: UserWarning: This ImageDataGenerator specifies `featurewise_std_normalization`, but it hasn't been fit on any training data. Fit it first by calling `.fit(numpy_data)`.\n",
            "  warnings.warn('This ImageDataGenerator specifies '\n"
          ],
          "name": "stderr"
        },
        {
          "output_type": "stream",
          "text": [
            "221/220 [==============================] - 68s 309ms/step - loss: 0.7452 - acc: 0.7829\n",
            "Epoch 2/10\n",
            "221/220 [==============================] - 69s 313ms/step - loss: 0.7081 - acc: 0.7925\n",
            "Epoch 3/10\n",
            "221/220 [==============================] - 69s 314ms/step - loss: 0.6571 - acc: 0.8050\n",
            "Epoch 4/10\n",
            "200/220 [==========================>...] - ETA: 6s - loss: 0.6274 - acc: 0.8042"
          ],
          "name": "stdout"
        },
        {
          "output_type": "error",
          "ename": "KeyboardInterrupt",
          "evalue": "ignored",
          "traceback": [
            "\u001b[0;31m---------------------------------------------------------------------------\u001b[0m",
            "\u001b[0;31mKeyboardInterrupt\u001b[0m                         Traceback (most recent call last)",
            "\u001b[0;32m<ipython-input-42-852a3fe57e21>\u001b[0m in \u001b[0;36m<module>\u001b[0;34m()\u001b[0m\n\u001b[0;32m----> 1\u001b[0;31m \u001b[0mH\u001b[0m \u001b[0;34m=\u001b[0m \u001b[0mmodel\u001b[0m\u001b[0;34m.\u001b[0m\u001b[0mfit_generator\u001b[0m\u001b[0;34m(\u001b[0m\u001b[0mdatagen\u001b[0m\u001b[0;34m.\u001b[0m\u001b[0mflow\u001b[0m\u001b[0;34m(\u001b[0m\u001b[0mdataset\u001b[0m\u001b[0;34m,\u001b[0m \u001b[0my_tr\u001b[0m\u001b[0;34m,\u001b[0m \u001b[0mbatch_size\u001b[0m\u001b[0;34m=\u001b[0m\u001b[0;36m32\u001b[0m\u001b[0;34m)\u001b[0m\u001b[0;34m,\u001b[0m \u001b[0msteps_per_epoch\u001b[0m\u001b[0;34m=\u001b[0m\u001b[0;34m(\u001b[0m\u001b[0mlen\u001b[0m\u001b[0;34m(\u001b[0m\u001b[0my_tr\u001b[0m\u001b[0;34m)\u001b[0m\u001b[0;34m/\u001b[0m\u001b[0;36m32\u001b[0m\u001b[0;34m)\u001b[0m\u001b[0;34m,\u001b[0m\u001b[0mepochs\u001b[0m\u001b[0;34m=\u001b[0m\u001b[0;36m10\u001b[0m\u001b[0;34m)\u001b[0m\u001b[0;34m\u001b[0m\u001b[0;34m\u001b[0m\u001b[0m\n\u001b[0m",
            "\u001b[0;32m/usr/local/lib/python3.6/dist-packages/keras/legacy/interfaces.py\u001b[0m in \u001b[0;36mwrapper\u001b[0;34m(*args, **kwargs)\u001b[0m\n\u001b[1;32m     89\u001b[0m                 warnings.warn('Update your `' + object_name + '` call to the ' +\n\u001b[1;32m     90\u001b[0m                               'Keras 2 API: ' + signature, stacklevel=2)\n\u001b[0;32m---> 91\u001b[0;31m             \u001b[0;32mreturn\u001b[0m \u001b[0mfunc\u001b[0m\u001b[0;34m(\u001b[0m\u001b[0;34m*\u001b[0m\u001b[0margs\u001b[0m\u001b[0;34m,\u001b[0m \u001b[0;34m**\u001b[0m\u001b[0mkwargs\u001b[0m\u001b[0;34m)\u001b[0m\u001b[0;34m\u001b[0m\u001b[0;34m\u001b[0m\u001b[0m\n\u001b[0m\u001b[1;32m     92\u001b[0m         \u001b[0mwrapper\u001b[0m\u001b[0;34m.\u001b[0m\u001b[0m_original_function\u001b[0m \u001b[0;34m=\u001b[0m \u001b[0mfunc\u001b[0m\u001b[0;34m\u001b[0m\u001b[0;34m\u001b[0m\u001b[0m\n\u001b[1;32m     93\u001b[0m         \u001b[0;32mreturn\u001b[0m \u001b[0mwrapper\u001b[0m\u001b[0;34m\u001b[0m\u001b[0;34m\u001b[0m\u001b[0m\n",
            "\u001b[0;32m/usr/local/lib/python3.6/dist-packages/keras/engine/training.py\u001b[0m in \u001b[0;36mfit_generator\u001b[0;34m(self, generator, steps_per_epoch, epochs, verbose, callbacks, validation_data, validation_steps, validation_freq, class_weight, max_queue_size, workers, use_multiprocessing, shuffle, initial_epoch)\u001b[0m\n\u001b[1;32m   1656\u001b[0m             \u001b[0muse_multiprocessing\u001b[0m\u001b[0;34m=\u001b[0m\u001b[0muse_multiprocessing\u001b[0m\u001b[0;34m,\u001b[0m\u001b[0;34m\u001b[0m\u001b[0;34m\u001b[0m\u001b[0m\n\u001b[1;32m   1657\u001b[0m             \u001b[0mshuffle\u001b[0m\u001b[0;34m=\u001b[0m\u001b[0mshuffle\u001b[0m\u001b[0;34m,\u001b[0m\u001b[0;34m\u001b[0m\u001b[0;34m\u001b[0m\u001b[0m\n\u001b[0;32m-> 1658\u001b[0;31m             initial_epoch=initial_epoch)\n\u001b[0m\u001b[1;32m   1659\u001b[0m \u001b[0;34m\u001b[0m\u001b[0m\n\u001b[1;32m   1660\u001b[0m     \u001b[0;34m@\u001b[0m\u001b[0minterfaces\u001b[0m\u001b[0;34m.\u001b[0m\u001b[0mlegacy_generator_methods_support\u001b[0m\u001b[0;34m\u001b[0m\u001b[0;34m\u001b[0m\u001b[0m\n",
            "\u001b[0;32m/usr/local/lib/python3.6/dist-packages/keras/engine/training_generator.py\u001b[0m in \u001b[0;36mfit_generator\u001b[0;34m(model, generator, steps_per_epoch, epochs, verbose, callbacks, validation_data, validation_steps, validation_freq, class_weight, max_queue_size, workers, use_multiprocessing, shuffle, initial_epoch)\u001b[0m\n\u001b[1;32m    179\u001b[0m             \u001b[0mbatch_index\u001b[0m \u001b[0;34m=\u001b[0m \u001b[0;36m0\u001b[0m\u001b[0;34m\u001b[0m\u001b[0;34m\u001b[0m\u001b[0m\n\u001b[1;32m    180\u001b[0m             \u001b[0;32mwhile\u001b[0m \u001b[0msteps_done\u001b[0m \u001b[0;34m<\u001b[0m \u001b[0msteps_per_epoch\u001b[0m\u001b[0;34m:\u001b[0m\u001b[0;34m\u001b[0m\u001b[0;34m\u001b[0m\u001b[0m\n\u001b[0;32m--> 181\u001b[0;31m                 \u001b[0mgenerator_output\u001b[0m \u001b[0;34m=\u001b[0m \u001b[0mnext\u001b[0m\u001b[0;34m(\u001b[0m\u001b[0moutput_generator\u001b[0m\u001b[0;34m)\u001b[0m\u001b[0;34m\u001b[0m\u001b[0;34m\u001b[0m\u001b[0m\n\u001b[0m\u001b[1;32m    182\u001b[0m \u001b[0;34m\u001b[0m\u001b[0m\n\u001b[1;32m    183\u001b[0m                 \u001b[0;32mif\u001b[0m \u001b[0;32mnot\u001b[0m \u001b[0mhasattr\u001b[0m\u001b[0;34m(\u001b[0m\u001b[0mgenerator_output\u001b[0m\u001b[0;34m,\u001b[0m \u001b[0;34m'__len__'\u001b[0m\u001b[0;34m)\u001b[0m\u001b[0;34m:\u001b[0m\u001b[0;34m\u001b[0m\u001b[0;34m\u001b[0m\u001b[0m\n",
            "\u001b[0;32m/usr/local/lib/python3.6/dist-packages/keras/utils/data_utils.py\u001b[0m in \u001b[0;36mget\u001b[0;34m(self)\u001b[0m\n\u001b[1;32m    601\u001b[0m                 \u001b[0;32mtry\u001b[0m\u001b[0;34m:\u001b[0m\u001b[0;34m\u001b[0m\u001b[0;34m\u001b[0m\u001b[0m\n\u001b[1;32m    602\u001b[0m                     \u001b[0mfuture\u001b[0m \u001b[0;34m=\u001b[0m \u001b[0mself\u001b[0m\u001b[0;34m.\u001b[0m\u001b[0mqueue\u001b[0m\u001b[0;34m.\u001b[0m\u001b[0mget\u001b[0m\u001b[0;34m(\u001b[0m\u001b[0mblock\u001b[0m\u001b[0;34m=\u001b[0m\u001b[0;32mTrue\u001b[0m\u001b[0;34m)\u001b[0m\u001b[0;34m\u001b[0m\u001b[0;34m\u001b[0m\u001b[0m\n\u001b[0;32m--> 603\u001b[0;31m                     \u001b[0minputs\u001b[0m \u001b[0;34m=\u001b[0m \u001b[0mfuture\u001b[0m\u001b[0;34m.\u001b[0m\u001b[0mget\u001b[0m\u001b[0;34m(\u001b[0m\u001b[0mtimeout\u001b[0m\u001b[0;34m=\u001b[0m\u001b[0;36m30\u001b[0m\u001b[0;34m)\u001b[0m\u001b[0;34m\u001b[0m\u001b[0;34m\u001b[0m\u001b[0m\n\u001b[0m\u001b[1;32m    604\u001b[0m                     \u001b[0mself\u001b[0m\u001b[0;34m.\u001b[0m\u001b[0mqueue\u001b[0m\u001b[0;34m.\u001b[0m\u001b[0mtask_done\u001b[0m\u001b[0;34m(\u001b[0m\u001b[0;34m)\u001b[0m\u001b[0;34m\u001b[0m\u001b[0;34m\u001b[0m\u001b[0m\n\u001b[1;32m    605\u001b[0m                 \u001b[0;32mexcept\u001b[0m \u001b[0mmp\u001b[0m\u001b[0;34m.\u001b[0m\u001b[0mTimeoutError\u001b[0m\u001b[0;34m:\u001b[0m\u001b[0;34m\u001b[0m\u001b[0;34m\u001b[0m\u001b[0m\n",
            "\u001b[0;32m/usr/lib/python3.6/multiprocessing/pool.py\u001b[0m in \u001b[0;36mget\u001b[0;34m(self, timeout)\u001b[0m\n\u001b[1;32m    636\u001b[0m \u001b[0;34m\u001b[0m\u001b[0m\n\u001b[1;32m    637\u001b[0m     \u001b[0;32mdef\u001b[0m \u001b[0mget\u001b[0m\u001b[0;34m(\u001b[0m\u001b[0mself\u001b[0m\u001b[0;34m,\u001b[0m \u001b[0mtimeout\u001b[0m\u001b[0;34m=\u001b[0m\u001b[0;32mNone\u001b[0m\u001b[0;34m)\u001b[0m\u001b[0;34m:\u001b[0m\u001b[0;34m\u001b[0m\u001b[0;34m\u001b[0m\u001b[0m\n\u001b[0;32m--> 638\u001b[0;31m         \u001b[0mself\u001b[0m\u001b[0;34m.\u001b[0m\u001b[0mwait\u001b[0m\u001b[0;34m(\u001b[0m\u001b[0mtimeout\u001b[0m\u001b[0;34m)\u001b[0m\u001b[0;34m\u001b[0m\u001b[0;34m\u001b[0m\u001b[0m\n\u001b[0m\u001b[1;32m    639\u001b[0m         \u001b[0;32mif\u001b[0m \u001b[0;32mnot\u001b[0m \u001b[0mself\u001b[0m\u001b[0;34m.\u001b[0m\u001b[0mready\u001b[0m\u001b[0;34m(\u001b[0m\u001b[0;34m)\u001b[0m\u001b[0;34m:\u001b[0m\u001b[0;34m\u001b[0m\u001b[0;34m\u001b[0m\u001b[0m\n\u001b[1;32m    640\u001b[0m             \u001b[0;32mraise\u001b[0m \u001b[0mTimeoutError\u001b[0m\u001b[0;34m\u001b[0m\u001b[0;34m\u001b[0m\u001b[0m\n",
            "\u001b[0;32m/usr/lib/python3.6/multiprocessing/pool.py\u001b[0m in \u001b[0;36mwait\u001b[0;34m(self, timeout)\u001b[0m\n\u001b[1;32m    633\u001b[0m \u001b[0;34m\u001b[0m\u001b[0m\n\u001b[1;32m    634\u001b[0m     \u001b[0;32mdef\u001b[0m \u001b[0mwait\u001b[0m\u001b[0;34m(\u001b[0m\u001b[0mself\u001b[0m\u001b[0;34m,\u001b[0m \u001b[0mtimeout\u001b[0m\u001b[0;34m=\u001b[0m\u001b[0;32mNone\u001b[0m\u001b[0;34m)\u001b[0m\u001b[0;34m:\u001b[0m\u001b[0;34m\u001b[0m\u001b[0;34m\u001b[0m\u001b[0m\n\u001b[0;32m--> 635\u001b[0;31m         \u001b[0mself\u001b[0m\u001b[0;34m.\u001b[0m\u001b[0m_event\u001b[0m\u001b[0;34m.\u001b[0m\u001b[0mwait\u001b[0m\u001b[0;34m(\u001b[0m\u001b[0mtimeout\u001b[0m\u001b[0;34m)\u001b[0m\u001b[0;34m\u001b[0m\u001b[0;34m\u001b[0m\u001b[0m\n\u001b[0m\u001b[1;32m    636\u001b[0m \u001b[0;34m\u001b[0m\u001b[0m\n\u001b[1;32m    637\u001b[0m     \u001b[0;32mdef\u001b[0m \u001b[0mget\u001b[0m\u001b[0;34m(\u001b[0m\u001b[0mself\u001b[0m\u001b[0;34m,\u001b[0m \u001b[0mtimeout\u001b[0m\u001b[0;34m=\u001b[0m\u001b[0;32mNone\u001b[0m\u001b[0;34m)\u001b[0m\u001b[0;34m:\u001b[0m\u001b[0;34m\u001b[0m\u001b[0;34m\u001b[0m\u001b[0m\n",
            "\u001b[0;32m/usr/lib/python3.6/threading.py\u001b[0m in \u001b[0;36mwait\u001b[0;34m(self, timeout)\u001b[0m\n\u001b[1;32m    549\u001b[0m             \u001b[0msignaled\u001b[0m \u001b[0;34m=\u001b[0m \u001b[0mself\u001b[0m\u001b[0;34m.\u001b[0m\u001b[0m_flag\u001b[0m\u001b[0;34m\u001b[0m\u001b[0;34m\u001b[0m\u001b[0m\n\u001b[1;32m    550\u001b[0m             \u001b[0;32mif\u001b[0m \u001b[0;32mnot\u001b[0m \u001b[0msignaled\u001b[0m\u001b[0;34m:\u001b[0m\u001b[0;34m\u001b[0m\u001b[0;34m\u001b[0m\u001b[0m\n\u001b[0;32m--> 551\u001b[0;31m                 \u001b[0msignaled\u001b[0m \u001b[0;34m=\u001b[0m \u001b[0mself\u001b[0m\u001b[0;34m.\u001b[0m\u001b[0m_cond\u001b[0m\u001b[0;34m.\u001b[0m\u001b[0mwait\u001b[0m\u001b[0;34m(\u001b[0m\u001b[0mtimeout\u001b[0m\u001b[0;34m)\u001b[0m\u001b[0;34m\u001b[0m\u001b[0;34m\u001b[0m\u001b[0m\n\u001b[0m\u001b[1;32m    552\u001b[0m             \u001b[0;32mreturn\u001b[0m \u001b[0msignaled\u001b[0m\u001b[0;34m\u001b[0m\u001b[0;34m\u001b[0m\u001b[0m\n\u001b[1;32m    553\u001b[0m \u001b[0;34m\u001b[0m\u001b[0m\n",
            "\u001b[0;32m/usr/lib/python3.6/threading.py\u001b[0m in \u001b[0;36mwait\u001b[0;34m(self, timeout)\u001b[0m\n\u001b[1;32m    297\u001b[0m             \u001b[0;32melse\u001b[0m\u001b[0;34m:\u001b[0m\u001b[0;34m\u001b[0m\u001b[0;34m\u001b[0m\u001b[0m\n\u001b[1;32m    298\u001b[0m                 \u001b[0;32mif\u001b[0m \u001b[0mtimeout\u001b[0m \u001b[0;34m>\u001b[0m \u001b[0;36m0\u001b[0m\u001b[0;34m:\u001b[0m\u001b[0;34m\u001b[0m\u001b[0;34m\u001b[0m\u001b[0m\n\u001b[0;32m--> 299\u001b[0;31m                     \u001b[0mgotit\u001b[0m \u001b[0;34m=\u001b[0m \u001b[0mwaiter\u001b[0m\u001b[0;34m.\u001b[0m\u001b[0macquire\u001b[0m\u001b[0;34m(\u001b[0m\u001b[0;32mTrue\u001b[0m\u001b[0;34m,\u001b[0m \u001b[0mtimeout\u001b[0m\u001b[0;34m)\u001b[0m\u001b[0;34m\u001b[0m\u001b[0;34m\u001b[0m\u001b[0m\n\u001b[0m\u001b[1;32m    300\u001b[0m                 \u001b[0;32melse\u001b[0m\u001b[0;34m:\u001b[0m\u001b[0;34m\u001b[0m\u001b[0;34m\u001b[0m\u001b[0m\n\u001b[1;32m    301\u001b[0m                     \u001b[0mgotit\u001b[0m \u001b[0;34m=\u001b[0m \u001b[0mwaiter\u001b[0m\u001b[0;34m.\u001b[0m\u001b[0macquire\u001b[0m\u001b[0;34m(\u001b[0m\u001b[0;32mFalse\u001b[0m\u001b[0;34m)\u001b[0m\u001b[0;34m\u001b[0m\u001b[0;34m\u001b[0m\u001b[0m\n",
            "\u001b[0;31mKeyboardInterrupt\u001b[0m: "
          ]
        }
      ]
    },
    {
      "cell_type": "code",
      "metadata": {
        "id": "wjsUCy9-nDXH",
        "colab_type": "code",
        "outputId": "fa0d02f2-49bc-4d1d-9aaf-3ed31018b9ab",
        "colab": {
          "base_uri": "https://localhost:8080/",
          "height": 34
        }
      },
      "source": [
        "y_train.shape"
      ],
      "execution_count": 0,
      "outputs": [
        {
          "output_type": "execute_result",
          "data": {
            "text/plain": [
              "(7046, 32)"
            ]
          },
          "metadata": {
            "tags": []
          },
          "execution_count": 26
        }
      ]
    },
    {
      "cell_type": "code",
      "metadata": {
        "id": "tw5hcDJHWEHn",
        "colab_type": "code",
        "colab": {}
      },
      "source": [
        "inp_shp=(224,224,3)\n",
        "model=tf.keras.Sequential()\n",
        "model.add(tf.keras.layers.Conv2D(128,(3,3),activation=\"relu\",input_shape=inp_shp))\n",
        "model.add(tf.keras.layers.MaxPooling2D((2,2)))\n",
        "model.add(tf.keras.layers.BatchNormalization())\n",
        "model.add(tf.keras.layers.Conv2D(128,(3,3),activation=\"relu\"))\n",
        "model.add(tf.keras.layers.MaxPooling2D((2,2)))\n",
        "model.add(tf.keras.layers.BatchNormalization())\n",
        "model.add(tf.keras.layers.Conv2D(256,(3,3),activation=\"relu\"))\n",
        "model.add(tf.keras.layers.MaxPooling2D((2,2)))\n",
        "model.add(tf.keras.layers.BatchNormalization())\n",
        "model.add(tf.keras.layers.Conv2D(256,(3,3),activation=\"relu\"))\n",
        "model.add(tf.keras.layers.MaxPooling2D((2,2)))\n",
        "model.add(tf.keras.layers.BatchNormalization())\n",
        "model.add(tf.keras.layers.Conv2D(512,(3,3),activation=\"relu\"))\n",
        "model.add(tf.keras.layers.MaxPooling2D((2,2)))\n",
        "model.add(tf.keras.layers.BatchNormalization())\n",
        "model.add(tf.keras.layers.Conv2D(512,(3,3),activation=\"relu\"))\n",
        "model.add(tf.keras.layers.MaxPooling2D((2,2)))\n",
        "model.add(tf.keras.layers.BatchNormalization())\n",
        "model.add(tf.keras.layers.Flatten())\n",
        "model.add(tf.keras.layers.Dense(1024,activation='relu'))\n",
        "model.add(tf.keras.layers.Dense(512,activation='relu'))\n",
        "model.add(tf.keras.layers.Dense(32,activation=\"softmax\"))"
      ],
      "execution_count": 0,
      "outputs": []
    },
    {
      "cell_type": "code",
      "metadata": {
        "id": "tUjnG1J5L7zE",
        "colab_type": "code",
        "outputId": "df55355a-9d02-40fe-b862-67c4ce32866f",
        "colab": {
          "base_uri": "https://localhost:8080/",
          "height": 890
        }
      },
      "source": [
        "model.summary()"
      ],
      "execution_count": 0,
      "outputs": [
        {
          "output_type": "stream",
          "text": [
            "Model: \"sequential_7\"\n",
            "_________________________________________________________________\n",
            "Layer (type)                 Output Shape              Param #   \n",
            "=================================================================\n",
            "conv2d_36 (Conv2D)           (None, 222, 222, 64)      1792      \n",
            "_________________________________________________________________\n",
            "max_pooling2d_36 (MaxPooling (None, 111, 111, 64)      0         \n",
            "_________________________________________________________________\n",
            "batch_normalization_34 (Batc (None, 111, 111, 64)      256       \n",
            "_________________________________________________________________\n",
            "conv2d_37 (Conv2D)           (None, 109, 109, 64)      36928     \n",
            "_________________________________________________________________\n",
            "max_pooling2d_37 (MaxPooling (None, 54, 54, 64)        0         \n",
            "_________________________________________________________________\n",
            "batch_normalization_35 (Batc (None, 54, 54, 64)        256       \n",
            "_________________________________________________________________\n",
            "conv2d_38 (Conv2D)           (None, 52, 52, 128)       73856     \n",
            "_________________________________________________________________\n",
            "max_pooling2d_38 (MaxPooling (None, 26, 26, 128)       0         \n",
            "_________________________________________________________________\n",
            "batch_normalization_36 (Batc (None, 26, 26, 128)       512       \n",
            "_________________________________________________________________\n",
            "conv2d_39 (Conv2D)           (None, 24, 24, 128)       147584    \n",
            "_________________________________________________________________\n",
            "max_pooling2d_39 (MaxPooling (None, 12, 12, 128)       0         \n",
            "_________________________________________________________________\n",
            "batch_normalization_37 (Batc (None, 12, 12, 128)       512       \n",
            "_________________________________________________________________\n",
            "conv2d_40 (Conv2D)           (None, 10, 10, 256)       295168    \n",
            "_________________________________________________________________\n",
            "max_pooling2d_40 (MaxPooling (None, 5, 5, 256)         0         \n",
            "_________________________________________________________________\n",
            "batch_normalization_38 (Batc (None, 5, 5, 256)         1024      \n",
            "_________________________________________________________________\n",
            "conv2d_41 (Conv2D)           (None, 3, 3, 256)         590080    \n",
            "_________________________________________________________________\n",
            "max_pooling2d_41 (MaxPooling (None, 1, 1, 256)         0         \n",
            "_________________________________________________________________\n",
            "batch_normalization_39 (Batc (None, 1, 1, 256)         1024      \n",
            "_________________________________________________________________\n",
            "flatten_4 (Flatten)          (None, 256)               0         \n",
            "_________________________________________________________________\n",
            "dense_6 (Dense)              (None, 256)               65792     \n",
            "_________________________________________________________________\n",
            "dropout_2 (Dropout)          (None, 256)               0         \n",
            "_________________________________________________________________\n",
            "dense_7 (Dense)              (None, 211)               54227     \n",
            "=================================================================\n",
            "Total params: 1,269,011\n",
            "Trainable params: 1,267,219\n",
            "Non-trainable params: 1,792\n",
            "_________________________________________________________________\n"
          ],
          "name": "stdout"
        }
      ]
    },
    {
      "cell_type": "code",
      "metadata": {
        "id": "mVz369ovYWWr",
        "colab_type": "code",
        "colab": {}
      },
      "source": [
        "model.compile(optimizer=tf.keras.optimizers.Adam(lr=0.0001), \n",
        "              loss=tf.keras.losses.categorical_crossentropy,\n",
        "              metrics=[\"accuracy\"])\n"
      ],
      "execution_count": 0,
      "outputs": []
    },
    {
      "cell_type": "code",
      "metadata": {
        "id": "QZmT1sHj8D9u",
        "colab_type": "code",
        "colab": {}
      },
      "source": [
        "from keras"
      ],
      "execution_count": 0,
      "outputs": []
    },
    {
      "cell_type": "code",
      "metadata": {
        "id": "ozoiQ-_-Y5A-",
        "colab_type": "code",
        "outputId": "7f087467-029f-4d92-f56b-209cc898b018",
        "colab": {
          "base_uri": "https://localhost:8080/",
          "height": 50
        }
      },
      "source": [
        "datagen = ImageDataGenerator(\n",
        "    featurewise_center=True,\n",
        "    featurewise_std_normalization=True,\n",
        "    rotation_range=20,\n",
        "    width_shift_range=0.2,\n",
        "    height_shift_range=0.2,\n",
        "    horizontal_flip=True)\n",
        "#history = model.fit_generator(datagen.flow(dataset, y_tr, batch_size=16), steps_per_epoch=(len(y_tr)/32),epochs=50)\n",
        "history=model.fit(dataset,y_tr, batch_size=32, epochs=1,\n",
        "          validation_split=0.2,  verbose=1, shuffle=True)"
      ],
      "execution_count": 0,
      "outputs": [
        {
          "output_type": "stream",
          "text": [
            "Train on 5636 samples, validate on 1410 samples\n",
            "5636/5636 [==============================] - 75s 13ms/sample - loss: 0.0220 - acc: 0.9941 - val_loss: 0.5395 - val_acc: 0.8922\n"
          ],
          "name": "stdout"
        }
      ]
    },
    {
      "cell_type": "code",
      "metadata": {
        "id": "ZQBIj21nDTSD",
        "colab_type": "code",
        "colab": {}
      },
      "source": [
        "model.save('modelnew2.h5')"
      ],
      "execution_count": 0,
      "outputs": []
    },
    {
      "cell_type": "code",
      "metadata": {
        "id": "B-_Zs0XKIXRV",
        "colab_type": "code",
        "colab": {}
      },
      "source": [
        "import matplotlib.pyplot as plt\n",
        "print(history.history.keys())\n",
        "# summarize history for accuracy\n",
        "plt.plot(history.history['acc'])\n",
        "plt.title('model accuracy')\n",
        "plt.ylabel('accuracy')\n",
        "plt.xlabel('epoch')\n",
        "plt.legend(['train'], loc='upper left')\n",
        "plt.show()\n",
        "# summarize history for loss\n",
        "plt.plot(history.history['loss'])\n",
        "plt.title('model loss')\n",
        "plt.ylabel('loss')\n",
        "plt.xlabel('epoch')\n",
        "plt.legend(['train'], loc='upper left')\n",
        "plt.show()"
      ],
      "execution_count": 0,
      "outputs": []
    },
    {
      "cell_type": "code",
      "metadata": {
        "id": "rPv1xRjdscJt",
        "colab_type": "code",
        "outputId": "025c0b5b-8116-4f1b-a775-8a23743013c9",
        "colab": {
          "base_uri": "https://localhost:8080/",
          "height": 34
        }
      },
      "source": [
        "cd test"
      ],
      "execution_count": 0,
      "outputs": [
        {
          "output_type": "stream",
          "text": [
            "/content/gdrive/My Drive/LR3/test\n"
          ],
          "name": "stdout"
        }
      ]
    },
    {
      "cell_type": "code",
      "metadata": {
        "id": "NQA37bnPvrkh",
        "colab_type": "code",
        "colab": {}
      },
      "source": [
        "model.save('model_new.h5')"
      ],
      "execution_count": 0,
      "outputs": []
    },
    {
      "cell_type": "code",
      "metadata": {
        "id": "nu-TIM1NxJlc",
        "colab_type": "code",
        "colab": {}
      },
      "source": [
        "from keras.models import load_model\n",
        "model=tf.keras.models.load_model('model9.h5')"
      ],
      "execution_count": 0,
      "outputs": []
    },
    {
      "cell_type": "code",
      "metadata": {
        "id": "HH7DQe3w8L8a",
        "colab_type": "code",
        "outputId": "8370d620-4e82-40ec-dce9-7570f1ee10d9",
        "colab": {
          "base_uri": "https://localhost:8080/",
          "height": 50
        }
      },
      "source": [
        "tf.disable_eager_execution()\n",
        "from keras.applications.resnet50 import ResNet50, preprocess_input\n",
        "from keras.models import Sequential\n",
        "from keras.layers import Dense, Conv2D, MaxPooling2D\n",
        "from keras.layers import Dropout, Flatten, GlobalAveragePooling2D\n",
        "\n",
        "#Loading the ResNet50 model with pre-trained ImageNet weights\n",
        "model = ResNet50(weights='imagenet', include_top=False, input_shape=(200, 200, 3))\n",
        "X_train_new = np.array([cv2.resize(dataset[i], (200, 200)) for i in range(0, len(dataset))]).astype('float32')\n",
        "\n",
        "#Preprocessing the data, so that it can be fed to the pre-trained ResNet50 model. \n",
        "resnet_train_input = preprocess_input(X_train_new)\n",
        "\n",
        "#Creating bottleneck features for the training data\n",
        "train_features = model.predict(resnet_train_input)\n",
        "\n",
        "#Saving the bottleneck features\n"
      ],
      "execution_count": 0,
      "outputs": [
        {
          "output_type": "stream",
          "text": [
            "/usr/local/lib/python3.6/dist-packages/keras_applications/resnet50.py:265: UserWarning: The output shape of `ResNet50(include_top=False)` has been changed since Keras 2.2.0.\n",
            "  warnings.warn('The output shape of `ResNet50(include_top=False)` '\n"
          ],
          "name": "stderr"
        }
      ]
    },
    {
      "cell_type": "code",
      "metadata": {
        "id": "8aci2oMHzhcK",
        "colab_type": "code",
        "colab": {}
      },
      "source": [
        "X_test_new = np.array([cv2.resize(tdataset[i], (200, 200)) for i in range(0, len(tdataset))]).astype('float32')\n",
        "resnet_test_input = preprocess_input(X_test_new)"
      ],
      "execution_count": 0,
      "outputs": []
    },
    {
      "cell_type": "code",
      "metadata": {
        "id": "MXKsF1MD0hIM",
        "colab_type": "code",
        "colab": {}
      },
      "source": [
        "test_features=model.predict(resnet_test_input)"
      ],
      "execution_count": 0,
      "outputs": []
    },
    {
      "cell_type": "code",
      "metadata": {
        "id": "e3nDs82uKAfe",
        "colab_type": "code",
        "outputId": "991b8ad8-fd4e-4cf9-f4eb-52e58e2a4480",
        "colab": {
          "base_uri": "https://localhost:8080/",
          "height": 252
        }
      },
      "source": [
        "model = Sequential()\n",
        "model.add(GlobalAveragePooling2D(input_shape=train_features.shape[1:]))\n",
        "model.add(Dropout(0.3))\n",
        "model.add(Dense(32, activation='softmax'))\n",
        "model.summary()\n",
        "import keras\n",
        "#adgrad=keras.optimizers.Adagrad(lr=0.01, epsilon=None, decay=0.0)\n",
        "adam=keras.optimizers.Adam(lr=0.0001, beta_1=0.9, beta_2=0.999, epsilon=None, decay=0.0, amsgrad=False)\n",
        "model.compile(loss='categorical_crossentropy', optimizer=adam, \n",
        "              metrics=['accuracy'])"
      ],
      "execution_count": 0,
      "outputs": [
        {
          "output_type": "stream",
          "text": [
            "Model: \"sequential_2\"\n",
            "_________________________________________________________________\n",
            "Layer (type)                 Output Shape              Param #   \n",
            "=================================================================\n",
            "global_average_pooling2d_2 ( (None, 2048)              0         \n",
            "_________________________________________________________________\n",
            "dropout_2 (Dropout)          (None, 2048)              0         \n",
            "_________________________________________________________________\n",
            "dense_2 (Dense)              (None, 32)                65568     \n",
            "=================================================================\n",
            "Total params: 65,568\n",
            "Trainable params: 65,568\n",
            "Non-trainable params: 0\n",
            "_________________________________________________________________\n"
          ],
          "name": "stdout"
        }
      ]
    },
    {
      "cell_type": "code",
      "metadata": {
        "id": "dBvX1pL8H4Ki",
        "colab_type": "code",
        "outputId": "f345fbec-4eaf-470b-e083-89e99ee6d17e",
        "colab": {
          "base_uri": "https://localhost:8080/",
          "height": 505
        }
      },
      "source": [
        "model.fit(train_features, y_tr, batch_size=32, epochs=15,\n",
        "          validation_split=0.1,  verbose=1, shuffle=True)"
      ],
      "execution_count": 0,
      "outputs": [
        {
          "output_type": "stream",
          "text": [
            "Train on 6341 samples, validate on 705 samples\n",
            "Epoch 1/15\n",
            "6341/6341 [==============================] - 2s 310us/step - loss: 0.2422 - acc: 0.9547 - val_loss: 0.5574 - val_acc: 0.8596\n",
            "Epoch 2/15\n",
            "6341/6341 [==============================] - 2s 306us/step - loss: 0.2355 - acc: 0.9571 - val_loss: 0.5605 - val_acc: 0.8610\n",
            "Epoch 3/15\n",
            "6341/6341 [==============================] - 2s 305us/step - loss: 0.2348 - acc: 0.9566 - val_loss: 0.5605 - val_acc: 0.8667\n",
            "Epoch 4/15\n",
            "6341/6341 [==============================] - 2s 304us/step - loss: 0.2366 - acc: 0.9554 - val_loss: 0.5571 - val_acc: 0.8652\n",
            "Epoch 5/15\n",
            "4256/6341 [===================>..........] - ETA: 0s - loss: 0.2360 - acc: 0.9549"
          ],
          "name": "stdout"
        },
        {
          "output_type": "error",
          "ename": "KeyboardInterrupt",
          "evalue": "ignored",
          "traceback": [
            "\u001b[0;31m---------------------------------------------------------------------------\u001b[0m",
            "\u001b[0;31mKeyboardInterrupt\u001b[0m                         Traceback (most recent call last)",
            "\u001b[0;32m<ipython-input-122-f9b8a858f78d>\u001b[0m in \u001b[0;36m<module>\u001b[0;34m()\u001b[0m\n\u001b[1;32m      1\u001b[0m model.fit(train_features, y_tr, batch_size=32, epochs=15,\n\u001b[0;32m----> 2\u001b[0;31m           validation_split=0.1,  verbose=1, shuffle=True)\n\u001b[0m",
            "\u001b[0;32m/usr/local/lib/python3.6/dist-packages/keras/engine/training.py\u001b[0m in \u001b[0;36mfit\u001b[0;34m(self, x, y, batch_size, epochs, verbose, callbacks, validation_split, validation_data, shuffle, class_weight, sample_weight, initial_epoch, steps_per_epoch, validation_steps, validation_freq, max_queue_size, workers, use_multiprocessing, **kwargs)\u001b[0m\n\u001b[1;32m   1176\u001b[0m                                         \u001b[0msteps_per_epoch\u001b[0m\u001b[0;34m=\u001b[0m\u001b[0msteps_per_epoch\u001b[0m\u001b[0;34m,\u001b[0m\u001b[0;34m\u001b[0m\u001b[0;34m\u001b[0m\u001b[0m\n\u001b[1;32m   1177\u001b[0m                                         \u001b[0mvalidation_steps\u001b[0m\u001b[0;34m=\u001b[0m\u001b[0mvalidation_steps\u001b[0m\u001b[0;34m,\u001b[0m\u001b[0;34m\u001b[0m\u001b[0;34m\u001b[0m\u001b[0m\n\u001b[0;32m-> 1178\u001b[0;31m                                         validation_freq=validation_freq)\n\u001b[0m\u001b[1;32m   1179\u001b[0m \u001b[0;34m\u001b[0m\u001b[0m\n\u001b[1;32m   1180\u001b[0m     def evaluate(self,\n",
            "\u001b[0;32m/usr/local/lib/python3.6/dist-packages/keras/engine/training_arrays.py\u001b[0m in \u001b[0;36mfit_loop\u001b[0;34m(model, fit_function, fit_inputs, out_labels, batch_size, epochs, verbose, callbacks, val_function, val_inputs, shuffle, callback_metrics, initial_epoch, steps_per_epoch, validation_steps, validation_freq)\u001b[0m\n\u001b[1;32m    202\u001b[0m                     \u001b[0mins_batch\u001b[0m\u001b[0;34m[\u001b[0m\u001b[0mi\u001b[0m\u001b[0;34m]\u001b[0m \u001b[0;34m=\u001b[0m \u001b[0mins_batch\u001b[0m\u001b[0;34m[\u001b[0m\u001b[0mi\u001b[0m\u001b[0;34m]\u001b[0m\u001b[0;34m.\u001b[0m\u001b[0mtoarray\u001b[0m\u001b[0;34m(\u001b[0m\u001b[0;34m)\u001b[0m\u001b[0;34m\u001b[0m\u001b[0;34m\u001b[0m\u001b[0m\n\u001b[1;32m    203\u001b[0m \u001b[0;34m\u001b[0m\u001b[0m\n\u001b[0;32m--> 204\u001b[0;31m                 \u001b[0mouts\u001b[0m \u001b[0;34m=\u001b[0m \u001b[0mfit_function\u001b[0m\u001b[0;34m(\u001b[0m\u001b[0mins_batch\u001b[0m\u001b[0;34m)\u001b[0m\u001b[0;34m\u001b[0m\u001b[0;34m\u001b[0m\u001b[0m\n\u001b[0m\u001b[1;32m    205\u001b[0m                 \u001b[0mouts\u001b[0m \u001b[0;34m=\u001b[0m \u001b[0mto_list\u001b[0m\u001b[0;34m(\u001b[0m\u001b[0mouts\u001b[0m\u001b[0;34m)\u001b[0m\u001b[0;34m\u001b[0m\u001b[0;34m\u001b[0m\u001b[0m\n\u001b[1;32m    206\u001b[0m                 \u001b[0;32mfor\u001b[0m \u001b[0ml\u001b[0m\u001b[0;34m,\u001b[0m \u001b[0mo\u001b[0m \u001b[0;32min\u001b[0m \u001b[0mzip\u001b[0m\u001b[0;34m(\u001b[0m\u001b[0mout_labels\u001b[0m\u001b[0;34m,\u001b[0m \u001b[0mouts\u001b[0m\u001b[0;34m)\u001b[0m\u001b[0;34m:\u001b[0m\u001b[0;34m\u001b[0m\u001b[0;34m\u001b[0m\u001b[0m\n",
            "\u001b[0;32m/usr/local/lib/python3.6/dist-packages/keras/backend/tensorflow_backend.py\u001b[0m in \u001b[0;36m__call__\u001b[0;34m(self, inputs)\u001b[0m\n\u001b[1;32m   2977\u001b[0m                     \u001b[0;32mreturn\u001b[0m \u001b[0mself\u001b[0m\u001b[0;34m.\u001b[0m\u001b[0m_legacy_call\u001b[0m\u001b[0;34m(\u001b[0m\u001b[0minputs\u001b[0m\u001b[0;34m)\u001b[0m\u001b[0;34m\u001b[0m\u001b[0;34m\u001b[0m\u001b[0m\n\u001b[1;32m   2978\u001b[0m \u001b[0;34m\u001b[0m\u001b[0m\n\u001b[0;32m-> 2979\u001b[0;31m             \u001b[0;32mreturn\u001b[0m \u001b[0mself\u001b[0m\u001b[0;34m.\u001b[0m\u001b[0m_call\u001b[0m\u001b[0;34m(\u001b[0m\u001b[0minputs\u001b[0m\u001b[0;34m)\u001b[0m\u001b[0;34m\u001b[0m\u001b[0;34m\u001b[0m\u001b[0m\n\u001b[0m\u001b[1;32m   2980\u001b[0m         \u001b[0;32melse\u001b[0m\u001b[0;34m:\u001b[0m\u001b[0;34m\u001b[0m\u001b[0;34m\u001b[0m\u001b[0m\n\u001b[1;32m   2981\u001b[0m             \u001b[0;32mif\u001b[0m \u001b[0mpy_any\u001b[0m\u001b[0;34m(\u001b[0m\u001b[0mis_tensor\u001b[0m\u001b[0;34m(\u001b[0m\u001b[0mx\u001b[0m\u001b[0;34m)\u001b[0m \u001b[0;32mfor\u001b[0m \u001b[0mx\u001b[0m \u001b[0;32min\u001b[0m \u001b[0minputs\u001b[0m\u001b[0;34m)\u001b[0m\u001b[0;34m:\u001b[0m\u001b[0;34m\u001b[0m\u001b[0;34m\u001b[0m\u001b[0m\n",
            "\u001b[0;32m/usr/local/lib/python3.6/dist-packages/keras/backend/tensorflow_backend.py\u001b[0m in \u001b[0;36m_call\u001b[0;34m(self, inputs)\u001b[0m\n\u001b[1;32m   2935\u001b[0m             \u001b[0mfetched\u001b[0m \u001b[0;34m=\u001b[0m \u001b[0mself\u001b[0m\u001b[0;34m.\u001b[0m\u001b[0m_callable_fn\u001b[0m\u001b[0;34m(\u001b[0m\u001b[0;34m*\u001b[0m\u001b[0marray_vals\u001b[0m\u001b[0;34m,\u001b[0m \u001b[0mrun_metadata\u001b[0m\u001b[0;34m=\u001b[0m\u001b[0mself\u001b[0m\u001b[0;34m.\u001b[0m\u001b[0mrun_metadata\u001b[0m\u001b[0;34m)\u001b[0m\u001b[0;34m\u001b[0m\u001b[0;34m\u001b[0m\u001b[0m\n\u001b[1;32m   2936\u001b[0m         \u001b[0;32melse\u001b[0m\u001b[0;34m:\u001b[0m\u001b[0;34m\u001b[0m\u001b[0;34m\u001b[0m\u001b[0m\n\u001b[0;32m-> 2937\u001b[0;31m             \u001b[0mfetched\u001b[0m \u001b[0;34m=\u001b[0m \u001b[0mself\u001b[0m\u001b[0;34m.\u001b[0m\u001b[0m_callable_fn\u001b[0m\u001b[0;34m(\u001b[0m\u001b[0;34m*\u001b[0m\u001b[0marray_vals\u001b[0m\u001b[0;34m)\u001b[0m\u001b[0;34m\u001b[0m\u001b[0;34m\u001b[0m\u001b[0m\n\u001b[0m\u001b[1;32m   2938\u001b[0m         \u001b[0;32mreturn\u001b[0m \u001b[0mfetched\u001b[0m\u001b[0;34m[\u001b[0m\u001b[0;34m:\u001b[0m\u001b[0mlen\u001b[0m\u001b[0;34m(\u001b[0m\u001b[0mself\u001b[0m\u001b[0;34m.\u001b[0m\u001b[0moutputs\u001b[0m\u001b[0;34m)\u001b[0m\u001b[0;34m]\u001b[0m\u001b[0;34m\u001b[0m\u001b[0;34m\u001b[0m\u001b[0m\n\u001b[1;32m   2939\u001b[0m \u001b[0;34m\u001b[0m\u001b[0m\n",
            "\u001b[0;32m/usr/local/lib/python3.6/dist-packages/tensorflow/python/client/session.py\u001b[0m in \u001b[0;36m__call__\u001b[0;34m(self, *args, **kwargs)\u001b[0m\n\u001b[1;32m   1456\u001b[0m         ret = tf_session.TF_SessionRunCallable(self._session._session,\n\u001b[1;32m   1457\u001b[0m                                                \u001b[0mself\u001b[0m\u001b[0;34m.\u001b[0m\u001b[0m_handle\u001b[0m\u001b[0;34m,\u001b[0m \u001b[0margs\u001b[0m\u001b[0;34m,\u001b[0m\u001b[0;34m\u001b[0m\u001b[0;34m\u001b[0m\u001b[0m\n\u001b[0;32m-> 1458\u001b[0;31m                                                run_metadata_ptr)\n\u001b[0m\u001b[1;32m   1459\u001b[0m         \u001b[0;32mif\u001b[0m \u001b[0mrun_metadata\u001b[0m\u001b[0;34m:\u001b[0m\u001b[0;34m\u001b[0m\u001b[0;34m\u001b[0m\u001b[0m\n\u001b[1;32m   1460\u001b[0m           \u001b[0mproto_data\u001b[0m \u001b[0;34m=\u001b[0m \u001b[0mtf_session\u001b[0m\u001b[0;34m.\u001b[0m\u001b[0mTF_GetBuffer\u001b[0m\u001b[0;34m(\u001b[0m\u001b[0mrun_metadata_ptr\u001b[0m\u001b[0;34m)\u001b[0m\u001b[0;34m\u001b[0m\u001b[0;34m\u001b[0m\u001b[0m\n",
            "\u001b[0;31mKeyboardInterrupt\u001b[0m: "
          ]
        }
      ]
    },
    {
      "cell_type": "code",
      "metadata": {
        "id": "O_G-bpTbyCIi",
        "colab_type": "code",
        "colab": {}
      },
      "source": [
        "p=model.predict(tdataset)"
      ],
      "execution_count": 0,
      "outputs": []
    },
    {
      "cell_type": "code",
      "metadata": {
        "id": "Mzu7xOTR3CVK",
        "colab_type": "code",
        "outputId": "aded8794-81a6-4a7d-ebe1-769f69dc2b7e",
        "colab": {
          "base_uri": "https://localhost:8080/",
          "height": 34
        }
      },
      "source": [
        "p.shape"
      ],
      "execution_count": 0,
      "outputs": [
        {
          "output_type": "execute_result",
          "data": {
            "text/plain": [
              "(1055, 32)"
            ]
          },
          "metadata": {
            "tags": []
          },
          "execution_count": 60
        }
      ]
    },
    {
      "cell_type": "code",
      "metadata": {
        "id": "6O3g1D4Y11LC",
        "colab_type": "code",
        "colab": {}
      },
      "source": [
        "pre=[]\n",
        "for i in range(0,1055):\n",
        "  pre.append(np.argmax(p[i],axis=0))"
      ],
      "execution_count": 0,
      "outputs": []
    },
    {
      "cell_type": "code",
      "metadata": {
        "id": "1uokVgAHYmlv",
        "colab_type": "code",
        "colab": {}
      },
      "source": [
        "p=np.array(p)"
      ],
      "execution_count": 0,
      "outputs": []
    },
    {
      "cell_type": "code",
      "metadata": {
        "id": "0Cx5w1gKvP6Y",
        "colab_type": "code",
        "outputId": "4735d24b-f6bd-43f8-cb8e-bb85de12c087",
        "colab": {
          "base_uri": "https://localhost:8080/",
          "height": 235
        }
      },
      "source": [
        "p"
      ],
      "execution_count": 0,
      "outputs": [
        {
          "output_type": "execute_result",
          "data": {
            "text/plain": [
              "array([[1.1969159e-09, 1.2053325e-06, 4.0956610e-07, ..., 8.1055031e-11,\n",
              "        1.9774245e-12, 1.6427043e-08],\n",
              "       [2.6415536e-11, 1.9995487e-10, 2.5325926e-07, ..., 6.3900302e-10,\n",
              "        1.0021882e-08, 4.1505100e-06],\n",
              "       [1.3056765e-02, 3.5603822e-03, 1.1269092e-03, ..., 2.0628560e-02,\n",
              "        1.5294114e-02, 7.2678011e-03],\n",
              "       ...,\n",
              "       [4.2928303e-07, 5.5269766e-06, 4.9302507e-06, ..., 4.2302737e-08,\n",
              "        1.4384789e-09, 8.7931329e-07],\n",
              "       [7.9892081e-04, 4.7041263e-04, 5.5141235e-03, ..., 9.3707070e-02,\n",
              "        1.4524513e-02, 2.6260266e-01],\n",
              "       [1.7261710e-12, 3.4650045e-15, 2.9805387e-11, ..., 2.3269099e-12,\n",
              "        6.5528581e-16, 3.0961132e-12]], dtype=float32)"
            ]
          },
          "metadata": {
            "tags": []
          },
          "execution_count": 39
        }
      ]
    },
    {
      "cell_type": "code",
      "metadata": {
        "id": "zWu7Xqgk1rvq",
        "colab_type": "code",
        "outputId": "d0077cc8-9de4-4435-ea08-81c2c48da0dd",
        "colab": {
          "base_uri": "https://localhost:8080/",
          "height": 34
        }
      },
      "source": [
        "cd .."
      ],
      "execution_count": 0,
      "outputs": [
        {
          "output_type": "stream",
          "text": [
            "/content/gdrive/My Drive/LR3\n"
          ],
          "name": "stdout"
        }
      ]
    },
    {
      "cell_type": "code",
      "metadata": {
        "id": "BDlkhACVfdiF",
        "colab_type": "code",
        "colab": {}
      },
      "source": [
        "import json\n",
        "with open('country.json','r') as f:\n",
        "  label_map=json.load(f)"
      ],
      "execution_count": 0,
      "outputs": []
    },
    {
      "cell_type": "code",
      "metadata": {
        "id": "qdxILc6QWzcm",
        "colab_type": "code",
        "outputId": "7b6ff64b-027d-4f83-9b6f-733d0361b08b",
        "colab": {
          "base_uri": "https://localhost:8080/",
          "height": 1000
        }
      },
      "source": [
        "label_map"
      ],
      "execution_count": 0,
      "outputs": [
        {
          "output_type": "execute_result",
          "data": {
            "text/plain": [
              "{'1': '1 Cent,Australian dollar,australia',\n",
              " '10': '5 Centavos,Brazilian Real,brazil',\n",
              " '100': '5 Won,Korean Won,south_korea',\n",
              " '101': '10 Won,Korean Won,south_korea',\n",
              " '102': '50 Won,Korean Won,south_korea',\n",
              " '103': '100 Won,Korean Won,south_korea',\n",
              " '104': '500 Won,Korean Won,south_korea',\n",
              " '105': '1 Sen,Malaysian Ringgit,malaysia',\n",
              " '106': '5 Sen,Malaysian Ringgit,malaysia',\n",
              " '107': '10 Sen,Malaysian Ringgit,malaysia',\n",
              " '108': '20 Sen,Malaysian Ringgit,malaysia',\n",
              " '109': '50 Sen,Malaysian Ringgit,malaysia',\n",
              " '11': '10 Centavos,Brazilian Real,brazil',\n",
              " '110': '5 Centavos,Mexican peso,mexico',\n",
              " '111': '10 Centavos,Mexican peso,mexico',\n",
              " '112': '20 Centavos,Mexican peso,mexico',\n",
              " '113': '50 Centavos,Mexican peso,mexico',\n",
              " '114': '1 Peso,Mexican peso,mexico',\n",
              " '115': '2 Pesos,Mexican peso,mexico',\n",
              " '116': '5 Pesos,Mexican peso,mexico',\n",
              " '117': '10 Pesos,Mexican peso,mexico',\n",
              " '118': '5 Cents,New Zealand dollar,new_zealand',\n",
              " '119': '10 Cents,New Zealand dollar,new_zealand',\n",
              " '12': '25 Centavos,Brazilian Real,brazil',\n",
              " '120': '20 Cents,New Zealand dollar,new_zealand',\n",
              " '121': '50 Cents,New Zealand dollar,new_zealand',\n",
              " '122': '1 Dollar,New Zealand dollar,new_zealand',\n",
              " '123': '2 Dollars,New Zealand dollar,new_zealand',\n",
              " '124': '50 Ore,Norwegian Krone,norway',\n",
              " '125': '1 Krone,Norwegian Krone,norway',\n",
              " '126': '5 Kroner,Norwegian Krone,norway',\n",
              " '127': '10 Kroner,Norwegian Krone,norway',\n",
              " '128': '20 Kroner,Norwegian Krone,norway',\n",
              " '129': '1 Rupee,Pakistan Rupee,pakistan',\n",
              " '13': '1 Real,Brazilian Real,brazil',\n",
              " '130': '2 Rupees,Pakistan Rupee,pakistan',\n",
              " '131': '5 Rupees,Pakistan Rupee,pakistan',\n",
              " '132': '10 Rupees,Pakistan Rupee,pakistan',\n",
              " '133': '1 Sentimo,Philipine peso,philippines',\n",
              " '134': '5 Sentimos,Philipine peso,philippines',\n",
              " '135': '10 Sentimos,Philipine peso,philippines',\n",
              " '136': '25 Sentimos,Philipine peso,philippines',\n",
              " '137': '1 Piso,Philipine peso,philippines',\n",
              " '138': '5 Piso,Philipine peso,philippines',\n",
              " '139': '10 Piso,Philipine peso,philippines',\n",
              " '14': '1 Penny,British Pound,united_kingdom',\n",
              " '140': '1 Grosz,Polish Zloty,poland',\n",
              " '141': '2 Grosze,Polish Zloty,poland',\n",
              " '142': '5 Groszy,Polish Zloty,poland',\n",
              " '143': '10 Groszy,Polish Zloty,poland',\n",
              " '144': '20 Groszy,Polish Zloty,poland',\n",
              " '145': '50 Groszy,Polish Zloty,poland',\n",
              " '146': '1 Zloty,Polish Zloty,poland',\n",
              " '147': '2 Zlote,Polish Zloty,poland',\n",
              " '148': '5 Zlotych,Polish Zloty,poland',\n",
              " '149': '1 Kopek,Russian Ruble,russia',\n",
              " '15': '2 Pence,British Pound,united_kingdom',\n",
              " '150': '5 Kopeks,Russian Ruble,russia',\n",
              " '151': '10 Kopeks,Russian Ruble,russia',\n",
              " '152': '50 Kopeks,Russian Ruble,russia',\n",
              " '153': '1 Ruble,Russian Ruble,russia',\n",
              " '154': '2 Rubles,Russian Ruble,russia',\n",
              " '155': '5 Rubles,Russian Ruble,russia',\n",
              " '156': '10 Rubles,Russian Ruble,russia',\n",
              " '157': '1 Cent,Singapore Dollar,singapore',\n",
              " '158': '5 Cents,Singapore Dollar,singapore',\n",
              " '159': '10 Cents,Singapore Dollar,singapore',\n",
              " '16': '5 Pence,British Pound,united_kingdom',\n",
              " '160': '20 Cents,Singapore Dollar,singapore',\n",
              " '161': '50 Cents,Singapore Dollar,singapore',\n",
              " '162': '1 Dollar,Singapore Dollar,singapore',\n",
              " '163': '5 Dollars,Singapore Dollar,singapore',\n",
              " '164': '5 Cents,South African Rand,south_africa',\n",
              " '165': '10 Cents,South African Rand,south_africa',\n",
              " '166': '20 Cents,South African Rand,south_africa',\n",
              " '167': '50 Cents,South African Rand,south_africa',\n",
              " '168': '1 Rand,South African Rand,south_africa',\n",
              " '169': '2 Rand,South African Rand,south_africa',\n",
              " '17': '10 Pence,British Pound,united_kingdom',\n",
              " '170': '5 Rand,South African Rand,south_africa',\n",
              " '171': '10 Ore,Swedish Krona,sweden',\n",
              " '172': '50 Ore,Swedish Krona,sweden',\n",
              " '173': '1 Krona,Swedish Krona,sweden',\n",
              " '174': '2 Kronor,Swedish Krona,sweden',\n",
              " '175': '5 Kronor,Swedish Krona,sweden',\n",
              " '176': '10 Kronor,Swedish Krona,sweden',\n",
              " '177': '1 Rappen,Swiss Franc,switzerland',\n",
              " '178': '5 Rappen,Swiss Franc,switzerland',\n",
              " '179': '10 Rappen,Swiss Franc,switzerland',\n",
              " '18': '20 Pence,British Pound,united_kingdom',\n",
              " '180': '20 Rappen,Swiss Franc,switzerland',\n",
              " '181': '1 2 Franc,Swiss Franc,switzerland',\n",
              " '182': '1 Franc,Swiss Franc,switzerland',\n",
              " '183': '2 Francs,Swiss Franc,switzerland',\n",
              " '184': '5 Francs,Swiss Franc,switzerland',\n",
              " '185': '1 2 Dollar,taiwan Dollar,taiwan',\n",
              " '186': '1 Dollar,taiwan Dollar,taiwan',\n",
              " '187': '5 Dollars,taiwan Dollar,taiwan',\n",
              " '188': '10 Dollars,taiwan Dollar,taiwan',\n",
              " '189': '20 Dollars,taiwan Dollar,taiwan',\n",
              " '19': '50 Pence,British Pound,united_kingdom',\n",
              " '190': '50 Dollars,taiwan Dollar,taiwan',\n",
              " '191': '1 Satang,Thai Baht,thailand',\n",
              " '192': '5 Satang,Thai Baht,thailand',\n",
              " '193': '10 Satang,Thai Baht,thailand',\n",
              " '194': '25 Satang,Thai Baht,thailand',\n",
              " '195': '50 Satang,Thai Baht,thailand',\n",
              " '196': '1 Baht,Thai Baht,thailand',\n",
              " '197': '2 Baht,Thai Baht,thailand',\n",
              " '198': '5 Baht,Thai Baht,thailand',\n",
              " '199': '10 Baht,Thai Baht,thailand',\n",
              " '2': '2 Cents,Australian dollar,australia',\n",
              " '20': '1 Pound,British Pound,united_kingdom',\n",
              " '200': '1 Kurus,Turkish Lira,turkey',\n",
              " '201': '5 Kurus,Turkish Lira,turkey',\n",
              " '202': '10 Kurus,Turkish Lira,turkey',\n",
              " '203': '25 Kurus,Turkish Lira,turkey',\n",
              " '204': '50 Kurus,Turkish Lira,turkey',\n",
              " '205': '1 Lira,Turkish Lira,turkey',\n",
              " '206': '1 Cent,US Dollar,usa',\n",
              " '207': '5 Cents,US Dollar,usa',\n",
              " '208': '1 Dime,US Dollar,usa',\n",
              " '209': '1 4 Dollar,US Dollar,usa',\n",
              " '21': '2 Pounds,British Pound,united_kingdom',\n",
              " '210': '1 2 Dollar,US Dollar,usa',\n",
              " '211': '1 Dollar,US Dollar,usa',\n",
              " '22': '1 Cent,Canadian Dollar,canada',\n",
              " '23': '5 Cents,Canadian Dollar,canada',\n",
              " '24': '10 Cents,Canadian Dollar,canada',\n",
              " '25': '25 Cents,Canadian Dollar,canada',\n",
              " '26': '50 Cents,Canadian Dollar,canada',\n",
              " '27': '1 Dollar,Canadian Dollar,canada',\n",
              " '28': '2 Dollars,Canadian Dollar,canada',\n",
              " '29': '1 Peso,Chilean Peso,chile',\n",
              " '3': '5 Cents,Australian dollar,australia',\n",
              " '30': '5 Pesos,Chilean Peso,chile',\n",
              " '31': '10 Pesos,Chilean Peso,chile',\n",
              " '32': '50 Pesos,Chilean Peso,chile',\n",
              " '33': '100 Pesos,Chilean Peso,chile',\n",
              " '34': '500 Pesos,Chilean Peso,chile',\n",
              " '35': '1 Jiao,Chinese Yuan Renminbi,china',\n",
              " '36': '5 Jiao,Chinese Yuan Renminbi,china',\n",
              " '37': '1 Yuan,Chinese Yuan Renminbi,china',\n",
              " '38': '10 Hellers,Czech Koruna,czech_republic',\n",
              " '39': '20 Hellers,Czech Koruna,czech_republic',\n",
              " '4': '10 Cents,Australian dollar,australia',\n",
              " '40': '50 Hellers,Czech Koruna,czech_republic',\n",
              " '41': '1 Koruna,Czech Koruna,czech_republic',\n",
              " '42': '2 Koruny,Czech Koruna,czech_republic',\n",
              " '43': '5 Korun,Czech Koruna,czech_republic',\n",
              " '44': '10 Korun,Czech Koruna,czech_republic',\n",
              " '45': '20 Korun,Czech Koruna,czech_republic',\n",
              " '46': '50 Korun,Czech Koruna,czech_republic',\n",
              " '47': '25 Ore,Danish Krone,denmark',\n",
              " '48': '50 Ore,Danish Krone,denmark',\n",
              " '49': '1 Krone,Danish Krone,denmark',\n",
              " '5': '20 Cents,Australian dollar,australia',\n",
              " '50': '2 Kroner,Danish Krone,denmark',\n",
              " '51': '5 Kroner,Danish Krone,denmark',\n",
              " '52': '10 Kroner,Danish Krone,denmark',\n",
              " '53': '20 Kroner,Danish Krone,denmark',\n",
              " '54': '1 euro Cent,Euro,spain',\n",
              " '55': '2 euro Cent,Euro,spain',\n",
              " '56': '5 euro Cent,Euro,spain',\n",
              " '57': '10 euro Cent,Euro,spain',\n",
              " '58': '20 euro Cent,Euro,spain',\n",
              " '59': '50 euro Cent,Euro,spain',\n",
              " '6': '50 Cents,Australian dollar,australia',\n",
              " '60': '1 Euro,Euro,spain',\n",
              " '61': '2 Euro,Euro,spain',\n",
              " '62': '10 Cents,Hong Kong dollar,hong_kong',\n",
              " '63': '50 Cents,Hong Kong dollar,hong_kong',\n",
              " '64': '1 Dollar,Hong Kong dollar,hong_kong',\n",
              " '65': '2 Dollars,Hong Kong dollar,hong_kong',\n",
              " '66': '5 Dollars,Hong Kong dollar,hong_kong',\n",
              " '67': '1 Forint,Hungarian Forint,hungary',\n",
              " '68': '2 Forint,Hungarian Forint,hungary',\n",
              " '69': '5 Forint,Hungarian Forint,hungary',\n",
              " '7': '1 Dollar,Australian dollar,australia',\n",
              " '70': '10 Forint,Hungarian Forint,hungary',\n",
              " '71': '20 Forint,Hungarian Forint,hungary',\n",
              " '72': '50 Forint,Hungarian Forint,hungary',\n",
              " '73': '100 Forint,Hungarian Forint,hungary',\n",
              " '74': '200 Forint,Hungarian Forint,hungary',\n",
              " '75': '25 Paise,Indian Rupee,india',\n",
              " '76': '50 Paise,Indian Rupee,india',\n",
              " '77': '1 Rupee,Indian Rupee,india',\n",
              " '78': '2 Rupees,Indian Rupee,india',\n",
              " '79': '5 Rupees,Indian Rupee,india',\n",
              " '8': '2 Dollars,Australian dollar,australia',\n",
              " '80': '10 Rupees,Indian Rupee,india',\n",
              " '81': '50 Rupiah,Indonesian Rupiah,indonesia',\n",
              " '82': '100 Rupiah,Indonesian Rupiah,indonesia',\n",
              " '83': '200 Rupiah,Indonesian Rupiah,indonesia',\n",
              " '84': '500 Rupiah,Indonesian Rupiah,indonesia',\n",
              " '85': '1000 Rupiah,Indonesian Rupiah,indonesia',\n",
              " '86': '5 Agorot,Israeli New Shekel,israel',\n",
              " '87': '10 Agorot,Israeli New Shekel,israel',\n",
              " '88': '1 2 New Sheqel,Israeli New Shekel,israel',\n",
              " '89': '1 New Sheqel,Israeli New Shekel,israel',\n",
              " '9': '1 Centavo,Brazilian Real,brazil',\n",
              " '90': '2 New Sheqalim,Israeli New Shekel,israel',\n",
              " '91': '5 New Sheqalim,Israeli New Shekel,israel',\n",
              " '92': '10 New Sheqalim,Israeli New Shekel,israel',\n",
              " '93': '1 Yen,Japanese Yen,japan',\n",
              " '94': '5 Yen,Japanese Yen,japan',\n",
              " '95': '10 Yen,Japanese Yen,japan',\n",
              " '96': '50 Yen,Japanese Yen,japan',\n",
              " '97': '100 Yen,Japanese Yen,japan',\n",
              " '98': '500 Yen,Japanese Yen,japan',\n",
              " '99': '1 Won,Korean Won,south_korea'}"
            ]
          },
          "metadata": {
            "tags": []
          },
          "execution_count": 9
        }
      ]
    },
    {
      "cell_type": "code",
      "metadata": {
        "id": "sE9cu_82g1WA",
        "colab_type": "code",
        "colab": {}
      },
      "source": [
        "for value in label_map:\n",
        "  s=label_map[value]\n",
        "  l=[]\n",
        "  l=s.split(',')\n",
        "  label_map[value]=l[-1]\n",
        "  "
      ],
      "execution_count": 0,
      "outputs": []
    },
    {
      "cell_type": "code",
      "metadata": {
        "id": "w6s9FEB_9Ol-",
        "colab_type": "code",
        "colab": {}
      },
      "source": [
        "pg=[]\n",
        "for item in pre:\n",
        "  pg.append(dictb[item])"
      ],
      "execution_count": 0,
      "outputs": []
    },
    {
      "cell_type": "code",
      "metadata": {
        "id": "4r6A_ERZ-AG6",
        "colab_type": "code",
        "colab": {}
      },
      "source": [
        "pg=np.array(pg)"
      ],
      "execution_count": 0,
      "outputs": []
    },
    {
      "cell_type": "code",
      "metadata": {
        "id": "kuizreRMiBga",
        "colab_type": "code",
        "colab": {}
      },
      "source": [
        "cp=[]\n",
        "for item in pre:\n",
        "  cp.append(label_map[str(item)])"
      ],
      "execution_count": 0,
      "outputs": []
    },
    {
      "cell_type": "code",
      "metadata": {
        "id": "R-r3AW8mjR_T",
        "colab_type": "code",
        "colab": {}
      },
      "source": [
        "import pandas as pd"
      ],
      "execution_count": 0,
      "outputs": []
    },
    {
      "cell_type": "code",
      "metadata": {
        "id": "_KkZSh4mllnk",
        "colab_type": "code",
        "colab": {}
      },
      "source": [
        "d=pd.DataFrame()\n",
        "a=[]\n",
        "for i in range(1,1056):\n",
        "  a.append(i)"
      ],
      "execution_count": 0,
      "outputs": []
    },
    {
      "cell_type": "code",
      "metadata": {
        "id": "AokQFDz2mbGk",
        "colab_type": "code",
        "colab": {}
      },
      "source": [
        "d['ID']=a"
      ],
      "execution_count": 0,
      "outputs": []
    },
    {
      "cell_type": "code",
      "metadata": {
        "id": "KGTDaRmmmeFH",
        "colab_type": "code",
        "colab": {}
      },
      "source": [
        "d['Country']=pg"
      ],
      "execution_count": 0,
      "outputs": []
    },
    {
      "cell_type": "code",
      "metadata": {
        "id": "zYFtdzyZmjau",
        "colab_type": "code",
        "colab": {}
      },
      "source": [
        "d.to_csv('sub21.csv',index=False)"
      ],
      "execution_count": 0,
      "outputs": []
    },
    {
      "cell_type": "code",
      "metadata": {
        "id": "H0bX-sjtmkA_",
        "colab_type": "code",
        "outputId": "88a0ce54-4c58-4e04-aa45-c5200f4068e2",
        "colab": {
          "base_uri": "https://localhost:8080/",
          "height": 1000
        }
      },
      "source": [
        "d"
      ],
      "execution_count": 0,
      "outputs": [
        {
          "output_type": "execute_result",
          "data": {
            "text/html": [
              "<div>\n",
              "<style scoped>\n",
              "    .dataframe tbody tr th:only-of-type {\n",
              "        vertical-align: middle;\n",
              "    }\n",
              "\n",
              "    .dataframe tbody tr th {\n",
              "        vertical-align: top;\n",
              "    }\n",
              "\n",
              "    .dataframe thead th {\n",
              "        text-align: right;\n",
              "    }\n",
              "</style>\n",
              "<table border=\"1\" class=\"dataframe\">\n",
              "  <thead>\n",
              "    <tr style=\"text-align: right;\">\n",
              "      <th></th>\n",
              "      <th>ID</th>\n",
              "      <th>Country</th>\n",
              "    </tr>\n",
              "  </thead>\n",
              "  <tbody>\n",
              "    <tr>\n",
              "      <th>0</th>\n",
              "      <td>1</td>\n",
              "      <td>thailand</td>\n",
              "    </tr>\n",
              "    <tr>\n",
              "      <th>1</th>\n",
              "      <td>2</td>\n",
              "      <td>mexico</td>\n",
              "    </tr>\n",
              "    <tr>\n",
              "      <th>2</th>\n",
              "      <td>3</td>\n",
              "      <td>switzerland</td>\n",
              "    </tr>\n",
              "    <tr>\n",
              "      <th>3</th>\n",
              "      <td>4</td>\n",
              "      <td>pakistan</td>\n",
              "    </tr>\n",
              "    <tr>\n",
              "      <th>4</th>\n",
              "      <td>5</td>\n",
              "      <td>india</td>\n",
              "    </tr>\n",
              "    <tr>\n",
              "      <th>5</th>\n",
              "      <td>6</td>\n",
              "      <td>brazil</td>\n",
              "    </tr>\n",
              "    <tr>\n",
              "      <th>6</th>\n",
              "      <td>7</td>\n",
              "      <td>malaysia</td>\n",
              "    </tr>\n",
              "    <tr>\n",
              "      <th>7</th>\n",
              "      <td>8</td>\n",
              "      <td>spain</td>\n",
              "    </tr>\n",
              "    <tr>\n",
              "      <th>8</th>\n",
              "      <td>9</td>\n",
              "      <td>israel</td>\n",
              "    </tr>\n",
              "    <tr>\n",
              "      <th>9</th>\n",
              "      <td>10</td>\n",
              "      <td>japan</td>\n",
              "    </tr>\n",
              "    <tr>\n",
              "      <th>10</th>\n",
              "      <td>11</td>\n",
              "      <td>taiwan</td>\n",
              "    </tr>\n",
              "    <tr>\n",
              "      <th>11</th>\n",
              "      <td>12</td>\n",
              "      <td>chile</td>\n",
              "    </tr>\n",
              "    <tr>\n",
              "      <th>12</th>\n",
              "      <td>13</td>\n",
              "      <td>russia</td>\n",
              "    </tr>\n",
              "    <tr>\n",
              "      <th>13</th>\n",
              "      <td>14</td>\n",
              "      <td>indonesia</td>\n",
              "    </tr>\n",
              "    <tr>\n",
              "      <th>14</th>\n",
              "      <td>15</td>\n",
              "      <td>new_zealand</td>\n",
              "    </tr>\n",
              "    <tr>\n",
              "      <th>15</th>\n",
              "      <td>16</td>\n",
              "      <td>new_zealand</td>\n",
              "    </tr>\n",
              "    <tr>\n",
              "      <th>16</th>\n",
              "      <td>17</td>\n",
              "      <td>canada</td>\n",
              "    </tr>\n",
              "    <tr>\n",
              "      <th>17</th>\n",
              "      <td>18</td>\n",
              "      <td>singapore</td>\n",
              "    </tr>\n",
              "    <tr>\n",
              "      <th>18</th>\n",
              "      <td>19</td>\n",
              "      <td>australia</td>\n",
              "    </tr>\n",
              "    <tr>\n",
              "      <th>19</th>\n",
              "      <td>20</td>\n",
              "      <td>russia</td>\n",
              "    </tr>\n",
              "    <tr>\n",
              "      <th>20</th>\n",
              "      <td>21</td>\n",
              "      <td>philippines</td>\n",
              "    </tr>\n",
              "    <tr>\n",
              "      <th>21</th>\n",
              "      <td>22</td>\n",
              "      <td>australia</td>\n",
              "    </tr>\n",
              "    <tr>\n",
              "      <th>22</th>\n",
              "      <td>23</td>\n",
              "      <td>india</td>\n",
              "    </tr>\n",
              "    <tr>\n",
              "      <th>23</th>\n",
              "      <td>24</td>\n",
              "      <td>denmark</td>\n",
              "    </tr>\n",
              "    <tr>\n",
              "      <th>24</th>\n",
              "      <td>25</td>\n",
              "      <td>hungary</td>\n",
              "    </tr>\n",
              "    <tr>\n",
              "      <th>25</th>\n",
              "      <td>26</td>\n",
              "      <td>russia</td>\n",
              "    </tr>\n",
              "    <tr>\n",
              "      <th>26</th>\n",
              "      <td>27</td>\n",
              "      <td>czech_republic</td>\n",
              "    </tr>\n",
              "    <tr>\n",
              "      <th>27</th>\n",
              "      <td>28</td>\n",
              "      <td>canada</td>\n",
              "    </tr>\n",
              "    <tr>\n",
              "      <th>28</th>\n",
              "      <td>29</td>\n",
              "      <td>mexico</td>\n",
              "    </tr>\n",
              "    <tr>\n",
              "      <th>29</th>\n",
              "      <td>30</td>\n",
              "      <td>sweden</td>\n",
              "    </tr>\n",
              "    <tr>\n",
              "      <th>...</th>\n",
              "      <td>...</td>\n",
              "      <td>...</td>\n",
              "    </tr>\n",
              "    <tr>\n",
              "      <th>1025</th>\n",
              "      <td>1026</td>\n",
              "      <td>south_africa</td>\n",
              "    </tr>\n",
              "    <tr>\n",
              "      <th>1026</th>\n",
              "      <td>1027</td>\n",
              "      <td>philippines</td>\n",
              "    </tr>\n",
              "    <tr>\n",
              "      <th>1027</th>\n",
              "      <td>1028</td>\n",
              "      <td>japan</td>\n",
              "    </tr>\n",
              "    <tr>\n",
              "      <th>1028</th>\n",
              "      <td>1029</td>\n",
              "      <td>south_korea</td>\n",
              "    </tr>\n",
              "    <tr>\n",
              "      <th>1029</th>\n",
              "      <td>1030</td>\n",
              "      <td>brazil</td>\n",
              "    </tr>\n",
              "    <tr>\n",
              "      <th>1030</th>\n",
              "      <td>1031</td>\n",
              "      <td>new_zealand</td>\n",
              "    </tr>\n",
              "    <tr>\n",
              "      <th>1031</th>\n",
              "      <td>1032</td>\n",
              "      <td>czech_republic</td>\n",
              "    </tr>\n",
              "    <tr>\n",
              "      <th>1032</th>\n",
              "      <td>1033</td>\n",
              "      <td>japan</td>\n",
              "    </tr>\n",
              "    <tr>\n",
              "      <th>1033</th>\n",
              "      <td>1034</td>\n",
              "      <td>spain</td>\n",
              "    </tr>\n",
              "    <tr>\n",
              "      <th>1034</th>\n",
              "      <td>1035</td>\n",
              "      <td>philippines</td>\n",
              "    </tr>\n",
              "    <tr>\n",
              "      <th>1035</th>\n",
              "      <td>1036</td>\n",
              "      <td>czech_republic</td>\n",
              "    </tr>\n",
              "    <tr>\n",
              "      <th>1036</th>\n",
              "      <td>1037</td>\n",
              "      <td>india</td>\n",
              "    </tr>\n",
              "    <tr>\n",
              "      <th>1037</th>\n",
              "      <td>1038</td>\n",
              "      <td>hungary</td>\n",
              "    </tr>\n",
              "    <tr>\n",
              "      <th>1038</th>\n",
              "      <td>1039</td>\n",
              "      <td>australia</td>\n",
              "    </tr>\n",
              "    <tr>\n",
              "      <th>1039</th>\n",
              "      <td>1040</td>\n",
              "      <td>japan</td>\n",
              "    </tr>\n",
              "    <tr>\n",
              "      <th>1040</th>\n",
              "      <td>1041</td>\n",
              "      <td>hungary</td>\n",
              "    </tr>\n",
              "    <tr>\n",
              "      <th>1041</th>\n",
              "      <td>1042</td>\n",
              "      <td>taiwan</td>\n",
              "    </tr>\n",
              "    <tr>\n",
              "      <th>1042</th>\n",
              "      <td>1043</td>\n",
              "      <td>denmark</td>\n",
              "    </tr>\n",
              "    <tr>\n",
              "      <th>1043</th>\n",
              "      <td>1044</td>\n",
              "      <td>united_kingdom</td>\n",
              "    </tr>\n",
              "    <tr>\n",
              "      <th>1044</th>\n",
              "      <td>1045</td>\n",
              "      <td>switzerland</td>\n",
              "    </tr>\n",
              "    <tr>\n",
              "      <th>1045</th>\n",
              "      <td>1046</td>\n",
              "      <td>south_africa</td>\n",
              "    </tr>\n",
              "    <tr>\n",
              "      <th>1046</th>\n",
              "      <td>1047</td>\n",
              "      <td>pakistan</td>\n",
              "    </tr>\n",
              "    <tr>\n",
              "      <th>1047</th>\n",
              "      <td>1048</td>\n",
              "      <td>norway</td>\n",
              "    </tr>\n",
              "    <tr>\n",
              "      <th>1048</th>\n",
              "      <td>1049</td>\n",
              "      <td>pakistan</td>\n",
              "    </tr>\n",
              "    <tr>\n",
              "      <th>1049</th>\n",
              "      <td>1050</td>\n",
              "      <td>usa</td>\n",
              "    </tr>\n",
              "    <tr>\n",
              "      <th>1050</th>\n",
              "      <td>1051</td>\n",
              "      <td>thailand</td>\n",
              "    </tr>\n",
              "    <tr>\n",
              "      <th>1051</th>\n",
              "      <td>1052</td>\n",
              "      <td>mexico</td>\n",
              "    </tr>\n",
              "    <tr>\n",
              "      <th>1052</th>\n",
              "      <td>1053</td>\n",
              "      <td>israel</td>\n",
              "    </tr>\n",
              "    <tr>\n",
              "      <th>1053</th>\n",
              "      <td>1054</td>\n",
              "      <td>philippines</td>\n",
              "    </tr>\n",
              "    <tr>\n",
              "      <th>1054</th>\n",
              "      <td>1055</td>\n",
              "      <td>taiwan</td>\n",
              "    </tr>\n",
              "  </tbody>\n",
              "</table>\n",
              "<p>1055 rows × 2 columns</p>\n",
              "</div>"
            ],
            "text/plain": [
              "        ID         Country\n",
              "0        1        thailand\n",
              "1        2          mexico\n",
              "2        3     switzerland\n",
              "3        4        pakistan\n",
              "4        5           india\n",
              "5        6          brazil\n",
              "6        7        malaysia\n",
              "7        8           spain\n",
              "8        9          israel\n",
              "9       10           japan\n",
              "10      11          taiwan\n",
              "11      12           chile\n",
              "12      13          russia\n",
              "13      14       indonesia\n",
              "14      15     new_zealand\n",
              "15      16     new_zealand\n",
              "16      17          canada\n",
              "17      18       singapore\n",
              "18      19       australia\n",
              "19      20          russia\n",
              "20      21     philippines\n",
              "21      22       australia\n",
              "22      23           india\n",
              "23      24         denmark\n",
              "24      25         hungary\n",
              "25      26          russia\n",
              "26      27  czech_republic\n",
              "27      28          canada\n",
              "28      29          mexico\n",
              "29      30          sweden\n",
              "...    ...             ...\n",
              "1025  1026    south_africa\n",
              "1026  1027     philippines\n",
              "1027  1028           japan\n",
              "1028  1029     south_korea\n",
              "1029  1030          brazil\n",
              "1030  1031     new_zealand\n",
              "1031  1032  czech_republic\n",
              "1032  1033           japan\n",
              "1033  1034           spain\n",
              "1034  1035     philippines\n",
              "1035  1036  czech_republic\n",
              "1036  1037           india\n",
              "1037  1038         hungary\n",
              "1038  1039       australia\n",
              "1039  1040           japan\n",
              "1040  1041         hungary\n",
              "1041  1042          taiwan\n",
              "1042  1043         denmark\n",
              "1043  1044  united_kingdom\n",
              "1044  1045     switzerland\n",
              "1045  1046    south_africa\n",
              "1046  1047        pakistan\n",
              "1047  1048          norway\n",
              "1048  1049        pakistan\n",
              "1049  1050             usa\n",
              "1050  1051        thailand\n",
              "1051  1052          mexico\n",
              "1052  1053          israel\n",
              "1053  1054     philippines\n",
              "1054  1055          taiwan\n",
              "\n",
              "[1055 rows x 2 columns]"
            ]
          },
          "metadata": {
            "tags": []
          },
          "execution_count": 70
        }
      ]
    },
    {
      "cell_type": "code",
      "metadata": {
        "id": "MnGNb3L3ZFn8",
        "colab_type": "code",
        "colab": {}
      },
      "source": [
        ""
      ],
      "execution_count": 0,
      "outputs": []
    }
  ]
}